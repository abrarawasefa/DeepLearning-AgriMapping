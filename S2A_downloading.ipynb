{
 "cells": [
  {
   "cell_type": "markdown",
   "id": "73c4d1c2-7083-498d-ab30-8f91b66d01d2",
   "metadata": {},
   "source": [
    "## Convert Sentinel-2 image bands to GeoTIFF"
   ]
  },
  {
   "cell_type": "markdown",
   "id": "c869326d-12ea-45aa-9eaf-0947f73b9638",
   "metadata": {},
   "source": [
    "First perform the three import statements that are required."
   ]
  },
  {
   "cell_type": "code",
   "execution_count": 1,
   "id": "3b70f49a-b18f-4833-a5e0-b50989d0cbd9",
   "metadata": {
    "tags": []
   },
   "outputs": [],
   "source": [
    "import xml.etree.ElementTree as xml\n",
    "from osgeo import gdal\n",
    "import os"
   ]
  },
  {
   "cell_type": "markdown",
   "id": "b35d3e76-1e80-4d93-aaf4-4521249c1b75",
   "metadata": {},
   "source": [
    "Compute the full path to the unzipped Sentinel-2 folder: the .SAFE folder is the one required here."
   ]
  },
  {
   "cell_type": "code",
   "execution_count": 2,
   "id": "a4f47fee-ed3f-4b76-8f49-5bf7751cb84c",
   "metadata": {
    "tags": []
   },
   "outputs": [],
   "source": [
    "homedir = '/home/eoafrica'\n",
    "sentinelfile = '/eodata/Sentinel-2/MSI/L2A/2021/12/29/S2B_MSIL2A_20211229T074229_N0301_R092_T37PEK_20211229T101323.SAFE'\n",
    "#S2B_MSIL2A_20220217T073949_N0400_R092_T37PEK_20220217T102748.SAFE\n",
    "sentinelfile = homedir + sentinelfile"
   ]
  },
  {
   "cell_type": "markdown",
   "id": "bc19fd44-fc53-443f-8f61-9d30b72fd229",
   "metadata": {},
   "source": [
    "Get the list of band-filenames (10m, 20m, 60m, and also the additional bands like TCI and SCL) from the Sentinel-2's xml file (MTD_MSIL2A.xml) "
   ]
  },
  {
   "cell_type": "code",
   "execution_count": 3,
   "id": "c7783728-85a1-4998-b73d-aa3e1ed44f5d",
   "metadata": {
    "tags": []
   },
   "outputs": [
    {
     "name": "stdout",
     "output_type": "stream",
     "text": [
      "There are 35 items in the sentinel image\n"
     ]
    }
   ],
   "source": [
    "msil = open(sentinelfile + '/MTD_MSIL2A.xml')\n",
    "msil = xml.parse(msil).getroot()\n",
    "namespace_msil = msil.tag.split('}')[0] + '}'\n",
    "filenames = msil.findall(namespace_msil + 'General_Info/Product_Info/Product_Organisation/Granule_List/Granule/IMAGE_FILE')\n",
    "print('There are ' + str(len(filenames)) + ' items in the sentinel image')"
   ]
  },
  {
   "cell_type": "markdown",
   "id": "ccf31b71-a2a2-4001-a888-56b4aba3ad68",
   "metadata": {},
   "source": [
    "Loop through the band-filenames and store them one by one as a GeoTIFF file in the same folder as this python notebook."
   ]
  },
  {
   "cell_type": "code",
   "execution_count": 5,
   "id": "5c24c80c-4a6f-40b1-8d96-3b0a6c7feba8",
   "metadata": {
    "tags": []
   },
   "outputs": [
    {
     "name": "stdout",
     "output_type": "stream",
     "text": [
      "[1/35] GRANULE/L2A_T37PEK_A025143_20211229T075506/IMG_DATA/R10m/T37PEK_20211229T074229_B02_10m.jp2\n",
      "File T37PEK_20211229T074229_B02_10m.tif already exists; skipping\n",
      "[2/35] GRANULE/L2A_T37PEK_A025143_20211229T075506/IMG_DATA/R10m/T37PEK_20211229T074229_B03_10m.jp2\n",
      "File T37PEK_20211229T074229_B03_10m.tif already exists; skipping\n",
      "[3/35] GRANULE/L2A_T37PEK_A025143_20211229T075506/IMG_DATA/R10m/T37PEK_20211229T074229_B04_10m.jp2\n",
      "File T37PEK_20211229T074229_B04_10m.tif already exists; skipping\n",
      "[4/35] GRANULE/L2A_T37PEK_A025143_20211229T075506/IMG_DATA/R10m/T37PEK_20211229T074229_B08_10m.jp2\n",
      "Stored as: T37PEK_20211229T074229_B08_10m.tif\n",
      "[5/35] GRANULE/L2A_T37PEK_A025143_20211229T075506/IMG_DATA/R10m/T37PEK_20211229T074229_TCI_10m.jp2\n",
      "Stored as: T37PEK_20211229T074229_TCI_10m.tif\n",
      "[6/35] GRANULE/L2A_T37PEK_A025143_20211229T075506/IMG_DATA/R10m/T37PEK_20211229T074229_AOT_10m.jp2\n",
      "Stored as: T37PEK_20211229T074229_AOT_10m.tif\n",
      "[7/35] GRANULE/L2A_T37PEK_A025143_20211229T075506/IMG_DATA/R10m/T37PEK_20211229T074229_WVP_10m.jp2\n",
      "Stored as: T37PEK_20211229T074229_WVP_10m.tif\n",
      "[8/35] GRANULE/L2A_T37PEK_A025143_20211229T075506/IMG_DATA/R20m/T37PEK_20211229T074229_B02_20m.jp2\n",
      "File T37PEK_20211229T074229_B02_20m.tif already exists; skipping\n",
      "[9/35] GRANULE/L2A_T37PEK_A025143_20211229T075506/IMG_DATA/R20m/T37PEK_20211229T074229_B03_20m.jp2\n",
      "Stored as: T37PEK_20211229T074229_B03_20m.tif\n",
      "[10/35] GRANULE/L2A_T37PEK_A025143_20211229T075506/IMG_DATA/R20m/T37PEK_20211229T074229_B04_20m.jp2\n",
      "Stored as: T37PEK_20211229T074229_B04_20m.tif\n",
      "[11/35] GRANULE/L2A_T37PEK_A025143_20211229T075506/IMG_DATA/R20m/T37PEK_20211229T074229_B05_20m.jp2\n",
      "Stored as: T37PEK_20211229T074229_B05_20m.tif\n",
      "[12/35] GRANULE/L2A_T37PEK_A025143_20211229T075506/IMG_DATA/R20m/T37PEK_20211229T074229_B06_20m.jp2\n",
      "Stored as: T37PEK_20211229T074229_B06_20m.tif\n",
      "[13/35] GRANULE/L2A_T37PEK_A025143_20211229T075506/IMG_DATA/R20m/T37PEK_20211229T074229_B07_20m.jp2\n",
      "Stored as: T37PEK_20211229T074229_B07_20m.tif\n",
      "[14/35] GRANULE/L2A_T37PEK_A025143_20211229T075506/IMG_DATA/R20m/T37PEK_20211229T074229_B8A_20m.jp2\n",
      "Stored as: T37PEK_20211229T074229_B8A_20m.tif\n",
      "[15/35] GRANULE/L2A_T37PEK_A025143_20211229T075506/IMG_DATA/R20m/T37PEK_20211229T074229_B11_20m.jp2\n",
      "Stored as: T37PEK_20211229T074229_B11_20m.tif\n",
      "[16/35] GRANULE/L2A_T37PEK_A025143_20211229T075506/IMG_DATA/R20m/T37PEK_20211229T074229_B12_20m.jp2\n",
      "Stored as: T37PEK_20211229T074229_B12_20m.tif\n",
      "[17/35] GRANULE/L2A_T37PEK_A025143_20211229T075506/IMG_DATA/R20m/T37PEK_20211229T074229_TCI_20m.jp2\n",
      "Stored as: T37PEK_20211229T074229_TCI_20m.tif\n",
      "[18/35] GRANULE/L2A_T37PEK_A025143_20211229T075506/IMG_DATA/R20m/T37PEK_20211229T074229_AOT_20m.jp2\n",
      "Stored as: T37PEK_20211229T074229_AOT_20m.tif\n",
      "[19/35] GRANULE/L2A_T37PEK_A025143_20211229T075506/IMG_DATA/R20m/T37PEK_20211229T074229_WVP_20m.jp2\n",
      "Stored as: T37PEK_20211229T074229_WVP_20m.tif\n",
      "[20/35] GRANULE/L2A_T37PEK_A025143_20211229T075506/IMG_DATA/R20m/T37PEK_20211229T074229_SCL_20m.jp2\n",
      "Stored as: T37PEK_20211229T074229_SCL_20m.tif\n",
      "[21/35] GRANULE/L2A_T37PEK_A025143_20211229T075506/IMG_DATA/R60m/T37PEK_20211229T074229_B01_60m.jp2\n",
      "File T37PEK_20211229T074229_B01_60m.tif already exists; skipping\n",
      "[22/35] GRANULE/L2A_T37PEK_A025143_20211229T075506/IMG_DATA/R60m/T37PEK_20211229T074229_B02_60m.jp2\n",
      "File T37PEK_20211229T074229_B02_60m.tif already exists; skipping\n",
      "[23/35] GRANULE/L2A_T37PEK_A025143_20211229T075506/IMG_DATA/R60m/T37PEK_20211229T074229_B03_60m.jp2\n",
      "Stored as: T37PEK_20211229T074229_B03_60m.tif\n",
      "[24/35] GRANULE/L2A_T37PEK_A025143_20211229T075506/IMG_DATA/R60m/T37PEK_20211229T074229_B04_60m.jp2\n",
      "Stored as: T37PEK_20211229T074229_B04_60m.tif\n",
      "[25/35] GRANULE/L2A_T37PEK_A025143_20211229T075506/IMG_DATA/R60m/T37PEK_20211229T074229_B05_60m.jp2\n",
      "Stored as: T37PEK_20211229T074229_B05_60m.tif\n",
      "[26/35] GRANULE/L2A_T37PEK_A025143_20211229T075506/IMG_DATA/R60m/T37PEK_20211229T074229_B06_60m.jp2\n",
      "Stored as: T37PEK_20211229T074229_B06_60m.tif\n",
      "[27/35] GRANULE/L2A_T37PEK_A025143_20211229T075506/IMG_DATA/R60m/T37PEK_20211229T074229_B07_60m.jp2\n",
      "Stored as: T37PEK_20211229T074229_B07_60m.tif\n",
      "[28/35] GRANULE/L2A_T37PEK_A025143_20211229T075506/IMG_DATA/R60m/T37PEK_20211229T074229_B8A_60m.jp2\n",
      "Stored as: T37PEK_20211229T074229_B8A_60m.tif\n",
      "[29/35] GRANULE/L2A_T37PEK_A025143_20211229T075506/IMG_DATA/R60m/T37PEK_20211229T074229_B09_60m.jp2\n",
      "Stored as: T37PEK_20211229T074229_B09_60m.tif\n",
      "[30/35] GRANULE/L2A_T37PEK_A025143_20211229T075506/IMG_DATA/R60m/T37PEK_20211229T074229_B11_60m.jp2\n",
      "Stored as: T37PEK_20211229T074229_B11_60m.tif\n",
      "[31/35] GRANULE/L2A_T37PEK_A025143_20211229T075506/IMG_DATA/R60m/T37PEK_20211229T074229_B12_60m.jp2\n",
      "Stored as: T37PEK_20211229T074229_B12_60m.tif\n",
      "[32/35] GRANULE/L2A_T37PEK_A025143_20211229T075506/IMG_DATA/R60m/T37PEK_20211229T074229_TCI_60m.jp2\n",
      "Stored as: T37PEK_20211229T074229_TCI_60m.tif\n",
      "[33/35] GRANULE/L2A_T37PEK_A025143_20211229T075506/IMG_DATA/R60m/T37PEK_20211229T074229_AOT_60m.jp2\n",
      "Stored as: T37PEK_20211229T074229_AOT_60m.tif\n",
      "[34/35] GRANULE/L2A_T37PEK_A025143_20211229T075506/IMG_DATA/R60m/T37PEK_20211229T074229_WVP_60m.jp2\n",
      "Stored as: T37PEK_20211229T074229_WVP_60m.tif\n",
      "[35/35] GRANULE/L2A_T37PEK_A025143_20211229T075506/IMG_DATA/R60m/T37PEK_20211229T074229_SCL_60m.jp2\n",
      "File T37PEK_20211229T074229_SCL_60m.tif already exists; skipping\n"
     ]
    }
   ],
   "source": [
    "sequence = 1\n",
    "for name in filenames:\n",
    "    name = name.text + '.jp2'\n",
    "    print('['+str(sequence)+'/'+str(len(filenames))+'] '+ name)\n",
    "    outputname = name[0:-4] + '.tif'\n",
    "    outputname = outputname.split('/')[-1]\n",
    "    if os.path.exists(outputname):\n",
    "        print('File ' + outputname + ' already exists; skipping')\n",
    "        sequence = sequence + 1\n",
    "        continue\n",
    "    try:\n",
    "        #dataset=gdal.Open(sentinelfile + '/' + name) # this does not work currently; the following four lines are the workaround\n",
    "        f = open(sentinelfile + '/' + name, 'rb')\n",
    "        mmap_name = \"/vsimem/\"+name\n",
    "        gdal.FileFromMemBuffer(mmap_name, f.read())\n",
    "        dataset=gdal.Open(mmap_name)\n",
    "        dataset = gdal.Translate(outputname, dataset, format='GTiff')\n",
    "        if dataset is None:\n",
    "            print('Store failed')\n",
    "        else:\n",
    "            print('Stored as: ' + outputname)\n",
    "        gdal.Unlink(mmap_name)\n",
    "    except:\n",
    "        print('no permission to read image')\n",
    "    sequence = sequence + 1\n"
   ]
  },
  {
   "cell_type": "code",
   "execution_count": 5,
   "id": "d1fde552-acd8-48d5-9375-577cc2f5eaac",
   "metadata": {
    "tags": []
   },
   "outputs": [],
   "source": [
    "import shutil"
   ]
  },
  {
   "cell_type": "code",
   "execution_count": 6,
   "id": "57cf2215-a876-43cf-80e6-0bd9088c37ca",
   "metadata": {
    "tags": []
   },
   "outputs": [
    {
     "name": "stdout",
     "output_type": "stream",
     "text": [
      "Copied\n"
     ]
    }
   ],
   "source": [
    "destination_dir = '/home/eoafrica/EOAfrica_Awash_basin_project/Data/S2A_metadata'\n",
    "shutil.copytree(sentinelfile, destination_dir)\n",
    "print('Copied')"
   ]
  },
  {
   "cell_type": "code",
   "execution_count": 8,
   "id": "2e012109-1349-46cf-ab50-184c38ddd2fc",
   "metadata": {
    "tags": []
   },
   "outputs": [
    {
     "name": "stdout",
     "output_type": "stream",
     "text": [
      "Dataset opened successfully.\n",
      "Dimensions: 10980 x 10980 pixels, 1 bands.\n"
     ]
    }
   ],
   "source": [
    "from osgeo import gdal\n",
    "\n",
    "# Replace 'path_to_your_image.tif' with the actual path to your TIFF image\n",
    "#Sentinel2_AWbasin/T37PEK_20211229T074229_B04_10m.tif\n",
    "image_path = '/home/eoafrica/RF_model/T37PEK_20211229T074229_B04_10m.tif'\n",
    "\n",
    "# Open the TIFF file\n",
    "dataset = gdal.Open(image_path)\n",
    "\n",
    "# Check if the dataset was successfully opened\n",
    "if dataset is not None:\n",
    "    print(\"Dataset opened successfully.\")\n",
    "    \n",
    "    # Get image dimensions\n",
    "    width = dataset.RasterXSize\n",
    "    height = dataset.RasterYSize\n",
    "    bands = dataset.RasterCount\n",
    "    print(f\"Dimensions: {width} x {height} pixels, {bands} bands.\")\n",
    "    \n",
    "    # Read the image data as a numpy array\n",
    "    image = dataset.ReadAsArray()\n",
    "\n",
    "    # Now, 'image' contains the pixel values of the TIFF image\n",
    "    \n",
    "    # Close the dataset\n",
    "    dataset = None\n",
    "else:\n",
    "    print(\"Failed to open the dataset.\")\n"
   ]
  },
  {
   "cell_type": "code",
   "execution_count": null,
   "id": "6fa07387-6d17-4d02-9c06-a9ccf0ae3745",
   "metadata": {},
   "outputs": [],
   "source": []
  },
  {
   "cell_type": "markdown",
   "id": "a4ef0734-2736-45cd-b13f-90dc65737ef0",
   "metadata": {},
   "source": [
    "### Load the individual bands"
   ]
  },
  {
   "cell_type": "code",
   "execution_count": 19,
   "id": "dcf0f202-7d85-4ae3-924b-224af9a754ba",
   "metadata": {
    "tags": []
   },
   "outputs": [],
   "source": [
    "\n",
    "##band_path = \"path/to/your/bands\"  # Replace with actual file paths\n",
    "#band_path = '/home/eoafrica/Sentinel2_AWbasin'\n",
    "#bands = [rasterio.open(f\"{band_path}/B{i}.tif\") for i in range(4, 4)]"
   ]
  },
  {
   "cell_type": "code",
   "execution_count": null,
   "id": "0293f4ae-7b13-4aaa-942e-a667a0e8f4ba",
   "metadata": {},
   "outputs": [],
   "source": []
  },
  {
   "cell_type": "code",
   "execution_count": null,
   "id": "3b0e4d0f-43f8-4254-89fe-364659086372",
   "metadata": {
    "tags": []
   },
   "outputs": [],
   "source": [
    "import rasterio\n",
    "\n",
    "# Define paths to your Sentinel-2 band files\n",
    "##band_path = \"path/to/your/bands\"  # Replace with actual file paths\n",
    "band2_path = '/home/eoafrica/Sentinel2_AWbasin/B2.tif'\n",
    "band3_path = '/home/eoafrica/Sentinel2_AWbasin/B3.tif'\n",
    "band4_path = '/home/eoafrica/Sentinel2_AWbasin/B4.tif'\n",
    "band8_path = '/home/eoafrica/Sentinel2_AWbasin/B8.tif' \n",
    "# Open the bands\n",
    "with rasterio.open(band8_path) as src8, rasterio.open(band4_path)as src4, rasterio.open(band3_path) as src3: #, rasterio.open(band2_path) as src2:\n",
    "    band8 = src8.read(1)  # Read band 8 data\n",
    "    band4 = src4.read(1)  # Read band 4 data\n",
    "    band3 = src3.read(1)  # Read band 3 data\n",
    "    #band2 = src2.read(1)  # Read band 2 data"
   ]
  },
  {
   "cell_type": "code",
   "execution_count": null,
   "id": "4116fd26-68bd-4805-9c3c-6518df91f8e3",
   "metadata": {},
   "outputs": [],
   "source": []
  }
 ],
 "metadata": {
  "kernelspec": {
   "display_name": "Python 3 (ipykernel)",
   "language": "python",
   "name": "python3"
  },
  "language_info": {
   "codemirror_mode": {
    "name": "ipython",
    "version": 3
   },
   "file_extension": ".py",
   "mimetype": "text/x-python",
   "name": "python",
   "nbconvert_exporter": "python",
   "pygments_lexer": "ipython3",
   "version": "3.8.10"
  }
 },
 "nbformat": 4,
 "nbformat_minor": 5
}
