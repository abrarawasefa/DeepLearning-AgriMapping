{
 "cells": [
  {
   "cell_type": "markdown",
   "id": "9565ba5e-e40c-4c50-ad8e-199f801772ed",
   "metadata": {},
   "source": [
    "### Import Relevant Packages "
   ]
  },
  {
   "cell_type": "code",
   "execution_count": 3,
   "id": "c01ad988-0736-49e5-9049-76e5652e2519",
   "metadata": {
    "tags": []
   },
   "outputs": [],
   "source": [
    "import rasterio\n",
    "import numpy as np\n",
    "from sklearn.svm import SVC\n",
    "from sklearn.model_selection import train_test_split\n",
    "from sklearn.metrics import accuracy_score\n",
    "import geopandas as gpd"
   ]
  },
  {
   "cell_type": "code",
   "execution_count": 6,
   "id": "05bc85a3-32f6-4f6f-b662-cf8befc097ee",
   "metadata": {
    "tags": []
   },
   "outputs": [],
   "source": [
    "# Load Sentinel-2 image\n",
    "sentinel_image_path = \"/home/eoafrica/Sentinel2_AWbasin/outputs_rgb/stacked_rgb.tif\"\n",
    "with rasterio.open(sentinel_image_path) as src:\n",
    "    sentinel_image = src.read()"
   ]
  },
  {
   "cell_type": "code",
   "execution_count": 8,
   "id": "ffd95b37-fad9-4b8f-99a7-22e5c558fbdd",
   "metadata": {
    "tags": []
   },
   "outputs": [],
   "source": [
    "# Load ground truth GCP shapefile data\n",
    "gcp_shapefile_path = \"/home/eoafrica/Sentinel2_AWbasin/GCP_LULCawash/lulcgcp.shp\"\n",
    "gcp_data = gpd.read_file(gcp_shapefile_path)"
   ]
  },
  {
   "cell_type": "code",
   "execution_count": 9,
   "id": "cb23a912-130b-487f-bad6-20492f650c93",
   "metadata": {
    "tags": []
   },
   "outputs": [],
   "source": [
    "# Extract the values of the image pixels at the locations of the GCPs\n",
    "gcp_points = gcp_data.geometry.apply(lambda geom: (geom.x, geom.y)).tolist()\n",
    "gcp_values = []\n",
    "for point in gcp_points:\n",
    "    row, col = src.index(point[0], point[1])\n",
    "    gcp_values.append(sentinel_image[:, row, col])\n",
    "\n",
    "gcp_values = np.array(gcp_values)"
   ]
  },
  {
   "cell_type": "code",
   "execution_count": 11,
   "id": "9dc935d2-b8c1-4c12-869f-5b0fa1dd66aa",
   "metadata": {
    "tags": []
   },
   "outputs": [],
   "source": [
    "# Extract corresponding class labels from the GCP data\n",
    "class_labels = gcp_data[\"class_labe\"].values.astype(int)"
   ]
  },
  {
   "cell_type": "code",
   "execution_count": 12,
   "id": "6fa46ea2-1605-4a59-a774-3b0908ac5688",
   "metadata": {
    "tags": []
   },
   "outputs": [],
   "source": [
    "# Split data into training and testing sets\n",
    "X_train, X_test, y_train, y_test = train_test_split(gcp_values, class_labels, test_size=0.3, random_state=42)"
   ]
  },
  {
   "cell_type": "code",
   "execution_count": null,
   "id": "dfba6c97-adb7-41cb-9a18-73614630150a",
   "metadata": {
    "tags": []
   },
   "outputs": [],
   "source": [
    "# Train Support Vector Classifier\n",
    "clf = SVC(kernel='linear', C=1.0)\n",
    "clf.fit(X_train, y_train)"
   ]
  },
  {
   "cell_type": "code",
   "execution_count": 15,
   "id": "eac110af-7089-4f7d-b5ca-6f5f80da5a3b",
   "metadata": {
    "tags": []
   },
   "outputs": [],
   "source": [
    "# Predict on the test set\n",
    "y_pred = clf.predict(X_test)"
   ]
  },
  {
   "cell_type": "code",
   "execution_count": null,
   "id": "36fef971-e8b3-4891-ba3a-b5116277459b",
   "metadata": {
    "tags": []
   },
   "outputs": [],
   "source": [
    "# Calculate accuracy\n",
    "accuracy = accuracy_score(y_test, y_pred)\n",
    "print(\"Accuracy:\", accuracy)"
   ]
  },
  {
   "cell_type": "code",
   "execution_count": null,
   "id": "ba9d9fe4-50cc-421d-9185-3f9cb7c0d195",
   "metadata": {
    "tags": []
   },
   "outputs": [],
   "source": [
    "# Optionally, classify the whole image\n",
    "predicted_image = np.zeros_like(sentinel_image[0])\n",
    "for i in range(sentinel_image.shape[1]):\n",
    "    for j in range(sentinel_image.shape[2]):\n",
    "        pixel_values = sentinel_image[:, i, j].reshape(1, -1)\n",
    "        predicted_class = clf.predict(pixel_values)\n",
    "        predicted_image[i, j] = predicted_class"
   ]
  },
  {
   "cell_type": "code",
   "execution_count": null,
   "id": "2e0ea33a-2737-4f20-8ba5-557013b0f610",
   "metadata": {},
   "outputs": [],
   "source": [
    "# Save the classified image\n",
    "classified_image_path = \"/home/eoafrica/Sentinel2_AWbasin/RF_LULCresult/classified_image.tif\"  # Path to save the classified image\n",
    "with rasterio.open(classified_image_path, 'w', **profile) as dst:\n",
    "    dst.write(classified_image.astype(rasterio.uint8))"
   ]
  }
 ],
 "metadata": {
  "kernelspec": {
   "display_name": "Python 3 (ipykernel)",
   "language": "python",
   "name": "python3"
  },
  "language_info": {
   "codemirror_mode": {
    "name": "ipython",
    "version": 3
   },
   "file_extension": ".py",
   "mimetype": "text/x-python",
   "name": "python",
   "nbconvert_exporter": "python",
   "pygments_lexer": "ipython3",
   "version": "3.8.10"
  }
 },
 "nbformat": 4,
 "nbformat_minor": 5
}
