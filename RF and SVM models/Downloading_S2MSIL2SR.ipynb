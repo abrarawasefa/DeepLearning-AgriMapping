{
 "cells": [
  {
   "cell_type": "markdown",
   "id": "454a44e1-6b6a-4423-a280-e57ed5c6bf5c",
   "metadata": {},
   "source": [
    "# Downloading  Sentinel 2 MSI level 2 surface reflectance images using the Inovation Lab cloud computing environment\n",
    "\n",
    "This Jupyter notebook demonstrates how to download S2 MSI level 2 surface refelectance  with the ESA EO Africa inovation lab cloud computing environment.\n",
    "\n",
    "\n",
    "**Prerequisites for running this notebook**\n",
    "\n",
    "Several packages need to be installed and/or imported for running this script:\n",
    "\n",
    " \n",
    "The `xml, gdal and os` modules should be imported first for downloading Sentinel 2 MSI level 2 surface reflectance iamges ;\n",
    "  "
   ]
  },
  {
   "cell_type": "markdown",
   "id": "621c710b-6322-4c63-9987-38db1b75c0cb",
   "metadata": {},
   "source": [
    "## Importing the relevant modules \n"
   ]
  },
  {
   "cell_type": "code",
   "execution_count": null,
   "id": "3b70f49a-b18f-4833-a5e0-b50989d0cbd9",
   "metadata": {
    "tags": []
   },
   "outputs": [],
   "source": [
    "import xml.etree.ElementTree as xml\n",
    "from osgeo import gdal\n",
    "import os"
   ]
  },
  {
   "cell_type": "markdown",
   "id": "b35d3e76-1e80-4d93-aaf4-4521249c1b75",
   "metadata": {},
   "source": [
    "The full path to the unzipped Sentinel-2 folder: the .SAFE folder is the one required here."
   ]
  },
  {
   "cell_type": "code",
   "execution_count": null,
   "id": "a4f47fee-ed3f-4b76-8f49-5bf7751cb84c",
   "metadata": {
    "tags": []
   },
   "outputs": [],
   "source": [
    "homedir = '/home/eoafrica'\n",
    "sentinelfile = '/eodata/Sentinel-2/MSI/L2A/2021/12/29/S2B_MSIL2A_20211229T074229_N0301_R092_T37PEK_20211229T101323.SAFE'\n",
    "#S2B_MSIL2A_20220217T073949_N0400_R092_T37PEK_20220217T102748.SAFE\n",
    "sentinelfile = homedir + sentinelfile"
   ]
  },
  {
   "cell_type": "markdown",
   "id": "bc19fd44-fc53-443f-8f61-9d30b72fd229",
   "metadata": {},
   "source": [
    "Get the list of band-filenames (10m, 20m, 60m, and also the additional bands like TCI and SCL) from the Sentinel-2's xml file (MTD_MSIL2A.xml) "
   ]
  },
  {
   "cell_type": "code",
   "execution_count": null,
   "id": "c7783728-85a1-4998-b73d-aa3e1ed44f5d",
   "metadata": {
    "tags": []
   },
   "outputs": [],
   "source": [
    "msil = open(sentinelfile + '/MTD_MSIL2A.xml')\n",
    "msil = xml.parse(msil).getroot()\n",
    "namespace_msil = msil.tag.split('}')[0] + '}'\n",
    "filenames = msil.findall(namespace_msil + 'General_Info/Product_Info/Product_Organisation/Granule_List/Granule/IMAGE_FILE')\n",
    "print('There are ' + str(len(filenames)) + ' items in the sentinel image')"
   ]
  },
  {
   "cell_type": "markdown",
   "id": "ccf31b71-a2a2-4001-a888-56b4aba3ad68",
   "metadata": {},
   "source": [
    "Loop through the band-filenames and store them one by one as a GeoTIFF file in the same folder as this python notebook."
   ]
  },
  {
   "cell_type": "code",
   "execution_count": null,
   "id": "5c24c80c-4a6f-40b1-8d96-3b0a6c7feba8",
   "metadata": {
    "tags": []
   },
   "outputs": [],
   "source": [
    "sequence = 1\n",
    "for name in filenames:\n",
    "    name = name.text + '.jp2'\n",
    "    print('['+str(sequence)+'/'+str(len(filenames))+'] '+ name)\n",
    "    outputname = name[0:-4] + '.tif'\n",
    "    outputname = outputname.split('/')[-1]\n",
    "    if os.path.exists(outputname):\n",
    "        print('File ' + outputname + ' already exists; skipping')\n",
    "        sequence = sequence + 1\n",
    "        continue\n",
    "    try:\n",
    "        #dataset=gdal.Open(sentinelfile + '/' + name) # this does not work currently; the following four lines are the workaround\n",
    "        f = open(sentinelfile + '/' + name, 'rb')\n",
    "        mmap_name = \"/vsimem/\"+name\n",
    "        gdal.FileFromMemBuffer(mmap_name, f.read())\n",
    "        dataset=gdal.Open(mmap_name)\n",
    "        dataset = gdal.Translate(outputname, dataset, format='GTiff')\n",
    "        if dataset is None:\n",
    "            print('Store failed')\n",
    "        else:\n",
    "            print('Stored as: ' + outputname)\n",
    "        gdal.Unlink(mmap_name)\n",
    "    except:\n",
    "        print('no permission to read image')\n",
    "    sequence = sequence + 1\n"
   ]
  },
  {
   "cell_type": "code",
   "execution_count": null,
   "id": "d1fde552-acd8-48d5-9375-577cc2f5eaac",
   "metadata": {
    "tags": []
   },
   "outputs": [],
   "source": [
    "import shutil"
   ]
  },
  {
   "cell_type": "code",
   "execution_count": null,
   "id": "57cf2215-a876-43cf-80e6-0bd9088c37ca",
   "metadata": {
    "tags": []
   },
   "outputs": [],
   "source": [
    "destination_dir = '/home/eoafrica/RF model/s2metadata'\n",
    "shutil.copytree(sentinelfile, destination_dir)\n",
    "print('Copied')"
   ]
  },
  {
   "cell_type": "code",
   "execution_count": null,
   "id": "2e012109-1349-46cf-ab50-184c38ddd2fc",
   "metadata": {
    "tags": []
   },
   "outputs": [],
   "source": [
    "from osgeo import gdal\n",
    "\n",
    "# Replace 'path_to_your_image.tif' with the actual path to your TIFF image\n",
    "#Sentinel2_AWbasin/T37PEK_20211229T074229_B04_10m.tif\n",
    "image_path = '/home/eoafrica/RF model/T37PEK_20211229T074229_B04_10m.tif'\n",
    "\n",
    "# Open the TIFF file\n",
    "dataset = gdal.Open(image_path)\n",
    "\n",
    "# Check if the dataset was successfully opened\n",
    "if dataset is not None:\n",
    "    print(\"Dataset opened successfully.\")\n",
    "    \n",
    "    # Get image dimensions\n",
    "    width = dataset.RasterXSize\n",
    "    height = dataset.RasterYSize\n",
    "    bands = dataset.RasterCount\n",
    "    print(f\"Dimensions: {width} x {height} pixels, {bands} bands.\")\n",
    "    \n",
    "    # Read the image data as a numpy array\n",
    "    image = dataset.ReadAsArray()\n",
    "\n",
    "    # Now, 'image' contains the pixel values of the TIFF image\n",
    "    \n",
    "    # Close the dataset\n",
    "    dataset = None\n",
    "else:\n",
    "    print(\"Failed to open the dataset.\")\n"
   ]
  },
  {
   "cell_type": "code",
   "execution_count": null,
   "id": "f6103405-d55b-4c3a-8e2a-df30fd28323e",
   "metadata": {},
   "outputs": [],
   "source": []
  }
 ],
 "metadata": {
  "kernelspec": {
   "display_name": "Python 3 (ipykernel)",
   "language": "python",
   "name": "python3"
  },
  "language_info": {
   "codemirror_mode": {
    "name": "ipython",
    "version": 3
   },
   "file_extension": ".py",
   "mimetype": "text/x-python",
   "name": "python",
   "nbconvert_exporter": "python",
   "pygments_lexer": "ipython3",
   "version": "3.8.10"
  }
 },
 "nbformat": 4,
 "nbformat_minor": 5
}
