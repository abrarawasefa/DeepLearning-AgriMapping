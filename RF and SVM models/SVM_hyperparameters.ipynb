{
 "cells": [
  {
   "cell_type": "markdown",
   "id": "b5e1f1ab-8782-44c8-a42b-7da741e26e6e",
   "metadata": {},
   "source": [
    "### Import Relevant Packages"
   ]
  },
  {
   "cell_type": "code",
   "execution_count": 1,
   "id": "92b3e8a1-63b4-4219-ae09-21e819a2256d",
   "metadata": {
    "tags": []
   },
   "outputs": [],
   "source": [
    "import rasterio\n",
    "import numpy as np\n",
    "from sklearn.svm import SVC\n",
    "from sklearn.model_selection import train_test_split, GridSearchCV\n",
    "from sklearn.metrics import accuracy_score\n",
    "import geopandas as gpd"
   ]
  },
  {
   "cell_type": "code",
   "execution_count": 2,
   "id": "307909cd-d1ac-4666-8af6-2460e021a12d",
   "metadata": {
    "tags": []
   },
   "outputs": [],
   "source": [
    "# Load Sentinel-2 image\n",
    "sentinel_image_path = \"/home/eoafrica/Sentinel2_AWbasin/outputs_rgb/stacked_rgb.tif\"\n",
    "with rasterio.open(sentinel_image_path) as src:\n",
    "    sentinel_image = src.read()"
   ]
  },
  {
   "cell_type": "code",
   "execution_count": 3,
   "id": "b5c2b19f-46e5-4b4e-b7d8-7bd4c7405a4c",
   "metadata": {
    "tags": []
   },
   "outputs": [],
   "source": [
    "# Load ground truth GCP shapefile data\n",
    "gcp_shapefile_path = \"/home/eoafrica/Sentinel2_AWbasin/GCP_LULCawash/lulcgcp.shp\"\n",
    "gcp_data = gpd.read_file(gcp_shapefile_path)"
   ]
  },
  {
   "cell_type": "code",
   "execution_count": 4,
   "id": "0c03935f-1774-43d1-a210-d7ba93ef6f1d",
   "metadata": {
    "tags": []
   },
   "outputs": [],
   "source": [
    "# Extract the values of the image pixels at the locations of the GCPs\n",
    "gcp_points = gcp_data.geometry.apply(lambda geom: (geom.x, geom.y)).tolist()\n",
    "gcp_values = []\n",
    "for point in gcp_points:\n",
    "    row, col = src.index(point[0], point[1])\n",
    "    gcp_values.append(sentinel_image[:, row, col])\n",
    "\n",
    "gcp_values = np.array(gcp_values)"
   ]
  },
  {
   "cell_type": "code",
   "execution_count": 6,
   "id": "2d7a638e-3e9d-4128-af55-9a94ef8727ba",
   "metadata": {
    "tags": []
   },
   "outputs": [],
   "source": [
    "# Extract corresponding class labels from the GCP data\n",
    "class_labels = gcp_data[\"class_labe\"].values.astype(int)"
   ]
  },
  {
   "cell_type": "code",
   "execution_count": 7,
   "id": "52ee75c7-e938-4106-8270-ef20d0b92ef7",
   "metadata": {
    "tags": []
   },
   "outputs": [],
   "source": [
    "# Split data into training and testing sets\n",
    "X_train, X_test, y_train, y_test = train_test_split(gcp_values, class_labels, test_size=0.3, random_state=42)"
   ]
  },
  {
   "cell_type": "code",
   "execution_count": 8,
   "id": "1d521d92-8c31-4221-bd84-4c31551c4542",
   "metadata": {
    "tags": []
   },
   "outputs": [],
   "source": [
    "# Define parameter grid for grid search\n",
    "param_grid = {\n",
    "    'C': [0.1, 1, 10],\n",
    "    'kernel': ['linear', 'rbf'],\n",
    "    'gamma': ['scale', 'auto']\n",
    "}"
   ]
  },
  {
   "cell_type": "code",
   "execution_count": 9,
   "id": "c4b489f8-c1da-4a50-9c3f-8becfbafd040",
   "metadata": {
    "tags": []
   },
   "outputs": [],
   "source": [
    "# Initialize Support Vector Classifier\n",
    "svm_classifier = SVC()"
   ]
  },
  {
   "cell_type": "code",
   "execution_count": null,
   "id": "6247d225-e9bc-46b3-88f2-0683c76bcb58",
   "metadata": {
    "tags": []
   },
   "outputs": [],
   "source": [
    "# Perform grid search\n",
    "grid_search = GridSearchCV(estimator=svm_classifier, param_grid=param_grid, cv=3, scoring='accuracy')\n",
    "grid_search.fit(X_train, y_train)"
   ]
  },
  {
   "cell_type": "code",
   "execution_count": 11,
   "id": "c340faa4-78cd-4202-977b-2437931e9e5d",
   "metadata": {
    "tags": []
   },
   "outputs": [],
   "source": [
    "# Get the best parameters and model\n",
    "best_params = grid_search.best_params_\n",
    "best_model = grid_search.best_estimator_"
   ]
  },
  {
   "cell_type": "code",
   "execution_count": null,
   "id": "e9f1ea55-d96b-4319-acc3-ad3d6d371f2a",
   "metadata": {
    "tags": []
   },
   "outputs": [],
   "source": [
    "# Evaluate the model\n",
    "y_pred = best_model.predict(X_test)\n",
    "accuracy = accuracy_score(y_test, y_pred)\n",
    "print(\"Best Parameters:\", best_params)\n",
    "print(\"Accuracy:\", accuracy)"
   ]
  }
 ],
 "metadata": {
  "kernelspec": {
   "display_name": "Python 3 (ipykernel)",
   "language": "python",
   "name": "python3"
  },
  "language_info": {
   "codemirror_mode": {
    "name": "ipython",
    "version": 3
   },
   "file_extension": ".py",
   "mimetype": "text/x-python",
   "name": "python",
   "nbconvert_exporter": "python",
   "pygments_lexer": "ipython3",
   "version": "3.8.10"
  }
 },
 "nbformat": 4,
 "nbformat_minor": 5
}
