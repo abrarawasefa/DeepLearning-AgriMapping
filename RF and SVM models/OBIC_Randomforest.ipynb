{
 "cells": [
  {
   "cell_type": "markdown",
   "id": "4bb1050f-5931-4ae1-a374-7c1c369658c8",
   "metadata": {},
   "source": [
    "# Project title:- \n",
    "Advancing Earth Observation Data and ResUNet-Deep Learning Model for Irrigated Area Mapping: The Case of Along the Awash Valley, Ethiopia\n"
   ]
  },
  {
   "cell_type": "markdown",
   "id": "02a33631-a4be-4c5a-8dd3-8fad38d5449f",
   "metadata": {},
   "source": [
    "\n",
    "# Object Based Image Classification (OBIC) using Random Forest (RF) classifier\n",
    "\n",
    "This Jupyter notebook demonstrates how to apply OBIC using RF classifier  with the ESA EO-Africa inovation lab cloud computing environment.\n",
    "\n",
    "**Prerequisites for running this notebook**\n",
    "\n",
    "Several packages need to be installed and/or imported for running this script:\n",
    "\n",
    "The `rasterio, skimage, sklearn,and geopandas` modules should be installed first to apply OBIC based RF classifier ;\n"
   ]
  },
  {
   "cell_type": "markdown",
   "id": "993f152f-f80a-4d8a-a258-72ecda9377f2",
   "metadata": {},
   "source": [
    "## Importing the relevant modules \n"
   ]
  },
  {
   "cell_type": "code",
   "execution_count": 12,
   "id": "2224f704-ce73-406b-bf53-0ba6ff663c5b",
   "metadata": {
    "tags": []
   },
   "outputs": [],
   "source": [
    "import rasterio\n",
    "from rasterio.plot import show\n",
    "from skimage import io, segmentation, color\n",
    "from sklearn.ensemble import RandomForestClassifier\n",
    "from sklearn.model_selection import train_test_split\n",
    "from sklearn.metrics import accuracy_score\n",
    "import geopandas as gpd\n",
    "import numpy as np"
   ]
  },
  {
   "cell_type": "markdown",
   "id": "1c34ae92-f55e-4f49-b7bc-4512853d4c74",
   "metadata": {
    "tags": []
   },
   "source": [
    "## Load RGB image"
   ]
  },
  {
   "cell_type": "code",
   "execution_count": 13,
   "id": "c9dbfd13-c769-4f22-bbaf-7756ff7927c5",
   "metadata": {
    "tags": []
   },
   "outputs": [],
   "source": [
    "sentinel_image_path = \"/home/eoafrica/Sentinel2_AWbasin/sentinel2_layerstack/stacked_image.tif\"\n",
    "with rasterio.open(sentinel_image_path) as src:\n",
    "   rgb_image = src.read()"
   ]
  },
  {
   "cell_type": "markdown",
   "id": "98fa4309-ec1b-4fb5-82a1-c0390866e7b9",
   "metadata": {
    "tags": []
   },
   "source": [
    "## Load the ground control points (GCP) data from Shapefile"
   ]
  },
  {
   "cell_type": "code",
   "execution_count": 14,
   "id": "1980b251-ef1c-45eb-a55e-7bc445b28b66",
   "metadata": {
    "tags": []
   },
   "outputs": [],
   "source": [
    "gcp_shapefile_path = \"/home/eoafrica/Sentinel2_AWbasin/GCP_LULCawash/lulcgcp.shp\"\n",
    "gcp_data = gpd.read_file(gcp_shapefile_path)"
   ]
  },
  {
   "cell_type": "markdown",
   "id": "ab7c9213-55a4-4d8e-abd6-92099aa18689",
   "metadata": {
    "tags": []
   },
   "source": [
    "## Extract coordinates and class labels from the GCP data"
   ]
  },
  {
   "cell_type": "code",
   "execution_count": 15,
   "id": "04fd8547-18c5-46a8-b433-c92b22a66e19",
   "metadata": {
    "tags": []
   },
   "outputs": [],
   "source": [
    "gcp_coords = np.column_stack((gcp_data.geometry.x, gcp_data.geometry.y))\n",
    "gcp_labels = gcp_data['class_labe'].values"
   ]
  },
  {
   "cell_type": "markdown",
   "id": "43bc5a05-4712-4875-98e4-0f55b80f10a0",
   "metadata": {
    "tags": []
   },
   "source": [
    "## Check shapes"
   ]
  },
  {
   "cell_type": "code",
   "execution_count": 16,
   "id": "769c0160-7ad3-4456-8f38-4cf5e35b093f",
   "metadata": {
    "tags": []
   },
   "outputs": [
    {
     "name": "stdout",
     "output_type": "stream",
     "text": [
      "gcp_coords shape: (88, 2)\n",
      "gcp_labels shape: (88,)\n"
     ]
    }
   ],
   "source": [
    "print(\"gcp_coords shape:\", gcp_coords.shape)\n",
    "print(\"gcp_labels shape:\", gcp_labels.shape)"
   ]
  },
  {
   "cell_type": "markdown",
   "id": "f6c1924a-0732-409b-890b-01a289dcf24c",
   "metadata": {
    "tags": []
   },
   "source": [
    "## Convert GCP coordinates to image indices"
   ]
  },
  {
   "cell_type": "code",
   "execution_count": 17,
   "id": "6a0c0922-557d-4983-b930-da3ee7c77abd",
   "metadata": {
    "tags": []
   },
   "outputs": [],
   "source": [
    "gcp_indices = np.floor(src.index(gcp_coords[:, 0], gcp_coords[:, 1]))"
   ]
  },
  {
   "cell_type": "markdown",
   "id": "9bf08e2d-c1d1-4f1d-b06d-9b2d6374341b",
   "metadata": {
    "tags": []
   },
   "source": [
    "## Extract RGB values at GCP locations"
   ]
  },
  {
   "cell_type": "code",
   "execution_count": 18,
   "id": "8420b639-72cf-4ef2-8c0a-569d594fa224",
   "metadata": {
    "tags": []
   },
   "outputs": [],
   "source": [
    "gcp_rgb_values = rgb_image[:, gcp_indices[1].astype(int), gcp_indices[0].astype(int)].T"
   ]
  },
  {
   "cell_type": "markdown",
   "id": "2d84ad99-c5b5-41c5-8d8b-6a3ec8612e62",
   "metadata": {
    "tags": []
   },
   "source": [
    "## Split data into training and testing sets"
   ]
  },
  {
   "cell_type": "code",
   "execution_count": 19,
   "id": "28874969-55dc-436d-bab3-515069f96088",
   "metadata": {
    "tags": []
   },
   "outputs": [],
   "source": [
    "X_train, X_test, y_train, y_test = train_test_split(gcp_rgb_values, gcp_labels, test_size=0.2, random_state=42)"
   ]
  },
  {
   "cell_type": "markdown",
   "id": "52694721-5957-4665-8a17-cbc18a30d53f",
   "metadata": {
    "tags": []
   },
   "source": [
    "## Remove rows with NaN values from the GCP data"
   ]
  },
  {
   "cell_type": "code",
   "execution_count": 20,
   "id": "8839d56e-bddb-4410-a97d-4995a78e955d",
   "metadata": {
    "tags": []
   },
   "outputs": [],
   "source": [
    "valid_indices = ~np.isnan(y_train)\n",
    "X_train = X_train[valid_indices]\n",
    "y_train = y_train[valid_indices]"
   ]
  },
  {
   "cell_type": "markdown",
   "id": "6048b167-196f-490c-a13e-2ff4cfe5bb37",
   "metadata": {
    "tags": []
   },
   "source": [
    "## Train a Random Forest classifier"
   ]
  },
  {
   "cell_type": "code",
   "execution_count": 21,
   "id": "d7966aea-d8db-4d0e-9a09-429a22dae695",
   "metadata": {
    "tags": []
   },
   "outputs": [
    {
     "data": {
      "text/html": [
       "<style>#sk-container-id-2 {color: black;}#sk-container-id-2 pre{padding: 0;}#sk-container-id-2 div.sk-toggleable {background-color: white;}#sk-container-id-2 label.sk-toggleable__label {cursor: pointer;display: block;width: 100%;margin-bottom: 0;padding: 0.3em;box-sizing: border-box;text-align: center;}#sk-container-id-2 label.sk-toggleable__label-arrow:before {content: \"▸\";float: left;margin-right: 0.25em;color: #696969;}#sk-container-id-2 label.sk-toggleable__label-arrow:hover:before {color: black;}#sk-container-id-2 div.sk-estimator:hover label.sk-toggleable__label-arrow:before {color: black;}#sk-container-id-2 div.sk-toggleable__content {max-height: 0;max-width: 0;overflow: hidden;text-align: left;background-color: #f0f8ff;}#sk-container-id-2 div.sk-toggleable__content pre {margin: 0.2em;color: black;border-radius: 0.25em;background-color: #f0f8ff;}#sk-container-id-2 input.sk-toggleable__control:checked~div.sk-toggleable__content {max-height: 200px;max-width: 100%;overflow: auto;}#sk-container-id-2 input.sk-toggleable__control:checked~label.sk-toggleable__label-arrow:before {content: \"▾\";}#sk-container-id-2 div.sk-estimator input.sk-toggleable__control:checked~label.sk-toggleable__label {background-color: #d4ebff;}#sk-container-id-2 div.sk-label input.sk-toggleable__control:checked~label.sk-toggleable__label {background-color: #d4ebff;}#sk-container-id-2 input.sk-hidden--visually {border: 0;clip: rect(1px 1px 1px 1px);clip: rect(1px, 1px, 1px, 1px);height: 1px;margin: -1px;overflow: hidden;padding: 0;position: absolute;width: 1px;}#sk-container-id-2 div.sk-estimator {font-family: monospace;background-color: #f0f8ff;border: 1px dotted black;border-radius: 0.25em;box-sizing: border-box;margin-bottom: 0.5em;}#sk-container-id-2 div.sk-estimator:hover {background-color: #d4ebff;}#sk-container-id-2 div.sk-parallel-item::after {content: \"\";width: 100%;border-bottom: 1px solid gray;flex-grow: 1;}#sk-container-id-2 div.sk-label:hover label.sk-toggleable__label {background-color: #d4ebff;}#sk-container-id-2 div.sk-serial::before {content: \"\";position: absolute;border-left: 1px solid gray;box-sizing: border-box;top: 0;bottom: 0;left: 50%;z-index: 0;}#sk-container-id-2 div.sk-serial {display: flex;flex-direction: column;align-items: center;background-color: white;padding-right: 0.2em;padding-left: 0.2em;position: relative;}#sk-container-id-2 div.sk-item {position: relative;z-index: 1;}#sk-container-id-2 div.sk-parallel {display: flex;align-items: stretch;justify-content: center;background-color: white;position: relative;}#sk-container-id-2 div.sk-item::before, #sk-container-id-2 div.sk-parallel-item::before {content: \"\";position: absolute;border-left: 1px solid gray;box-sizing: border-box;top: 0;bottom: 0;left: 50%;z-index: -1;}#sk-container-id-2 div.sk-parallel-item {display: flex;flex-direction: column;z-index: 1;position: relative;background-color: white;}#sk-container-id-2 div.sk-parallel-item:first-child::after {align-self: flex-end;width: 50%;}#sk-container-id-2 div.sk-parallel-item:last-child::after {align-self: flex-start;width: 50%;}#sk-container-id-2 div.sk-parallel-item:only-child::after {width: 0;}#sk-container-id-2 div.sk-dashed-wrapped {border: 1px dashed gray;margin: 0 0.4em 0.5em 0.4em;box-sizing: border-box;padding-bottom: 0.4em;background-color: white;}#sk-container-id-2 div.sk-label label {font-family: monospace;font-weight: bold;display: inline-block;line-height: 1.2em;}#sk-container-id-2 div.sk-label-container {text-align: center;}#sk-container-id-2 div.sk-container {/* jupyter's `normalize.less` sets `[hidden] { display: none; }` but bootstrap.min.css set `[hidden] { display: none !important; }` so we also need the `!important` here to be able to override the default hidden behavior on the sphinx rendered scikit-learn.org. See: https://github.com/scikit-learn/scikit-learn/issues/21755 */display: inline-block !important;position: relative;}#sk-container-id-2 div.sk-text-repr-fallback {display: none;}</style><div id=\"sk-container-id-2\" class=\"sk-top-container\"><div class=\"sk-text-repr-fallback\"><pre>RandomForestClassifier(random_state=42)</pre><b>In a Jupyter environment, please rerun this cell to show the HTML representation or trust the notebook. <br />On GitHub, the HTML representation is unable to render, please try loading this page with nbviewer.org.</b></div><div class=\"sk-container\" hidden><div class=\"sk-item\"><div class=\"sk-estimator sk-toggleable\"><input class=\"sk-toggleable__control sk-hidden--visually\" id=\"sk-estimator-id-2\" type=\"checkbox\" checked><label for=\"sk-estimator-id-2\" class=\"sk-toggleable__label sk-toggleable__label-arrow\">RandomForestClassifier</label><div class=\"sk-toggleable__content\"><pre>RandomForestClassifier(random_state=42)</pre></div></div></div></div></div>"
      ],
      "text/plain": [
       "RandomForestClassifier(random_state=42)"
      ]
     },
     "execution_count": 21,
     "metadata": {},
     "output_type": "execute_result"
    }
   ],
   "source": [
    "classifier = RandomForestClassifier(n_estimators=100, random_state=42)\n",
    "classifier.fit(X_train, y_train)"
   ]
  },
  {
   "cell_type": "markdown",
   "id": "17896e9b-3dd8-498e-9b15-850c096b1ed6",
   "metadata": {
    "tags": []
   },
   "source": [
    "## Predict labels for the entire image"
   ]
  },
  {
   "cell_type": "code",
   "execution_count": 22,
   "id": "1433ef15-3f98-4082-ad68-d4d87b234c9d",
   "metadata": {
    "tags": []
   },
   "outputs": [],
   "source": [
    "rgb_image_reshaped = np.moveaxis(rgb_image, 0, -1)\n",
    "segments = segmentation.slic(rgb_image_reshaped, compactness=20, n_segments=500)\n",
    "segmented_image = color.label2rgb(segments, rgb_image_reshaped, kind='avg')"
   ]
  },
  {
   "cell_type": "markdown",
   "id": "bfd3f296-3b97-49f6-8acb-f0ead379ca2f",
   "metadata": {},
   "source": [
    "## Extract features for each segment"
   ]
  },
  {
   "cell_type": "code",
   "execution_count": 23,
   "id": "1cca1646-b64a-49b4-8d65-3818a1105d7f",
   "metadata": {
    "tags": []
   },
   "outputs": [],
   "source": [
    "segment_features = []\n",
    "for segment_id in np.unique(segments):\n",
    "    segment_mask = segments == segment_id\n",
    "    segment_rgb_values = rgb_image_reshaped[segment_mask]\n",
    "    segment_features.append(np.mean(segment_rgb_values, axis=0))"
   ]
  },
  {
   "cell_type": "markdown",
   "id": "7cd4b9be-ec18-448b-9fc6-31f71efa101f",
   "metadata": {},
   "source": [
    "## Classify segments"
   ]
  },
  {
   "cell_type": "code",
   "execution_count": 24,
   "id": "9a30d3da-6d27-4396-b7c9-36cacdc8c7ed",
   "metadata": {},
   "outputs": [],
   "source": [
    "predicted_labels = classifier.predict(segment_features)"
   ]
  },
  {
   "cell_type": "markdown",
   "id": "94c72d7b-4975-4568-a16a-e57c6d91d402",
   "metadata": {
    "tags": []
   },
   "source": [
    "##  Visualize the classified image"
   ]
  },
  {
   "cell_type": "code",
   "execution_count": 25,
   "id": "1d7f643e-dce0-4e6f-9e95-f9dc88fe5c82",
   "metadata": {
    "tags": []
   },
   "outputs": [
    {
     "name": "stderr",
     "output_type": "stream",
     "text": [
      "/usr/local/lib/python3.8/dist-packages/skimage/io/_plugins/matplotlib_plugin.py:149: UserWarning: Low image data range; displaying image with stretched contrast.\n",
      "  lo, hi, cmap = _get_display_range(image)\n"
     ]
    },
    {
     "data": {
      "text/plain": [
       "<matplotlib.image.AxesImage at 0x7fd51559fc70>"
      ]
     },
     "execution_count": 25,
     "metadata": {},
     "output_type": "execute_result"
    },
    {
     "data": {
      "image/png": "[encoded data removed]",
      "text/plain": [
       "<Figure size 640x480 with 2 Axes>"
      ]
     },
     "metadata": {},
     "output_type": "display_data"
    }
   ],
   "source": [
    "classified_image = np.zeros_like(segments)\n",
    "for segment_id, label in zip(np.unique(segments), predicted_labels):\n",
    "    classified_image[segments == segment_id] = label\n",
    "\n",
    "io.imshow(classified_image)"
   ]
  }
 ],
 "metadata": {
  "kernelspec": {
   "display_name": "Python 3 (ipykernel)",
   "language": "python",
   "name": "python3"
  },
  "language_info": {
   "codemirror_mode": {
    "name": "ipython",
    "version": 3
   },
   "file_extension": ".py",
   "mimetype": "text/x-python",
   "name": "python",
   "nbconvert_exporter": "python",
   "pygments_lexer": "ipython3",
   "version": "3.8.10"
  }
 },
 "nbformat": 4,
 "nbformat_minor": 5
}
