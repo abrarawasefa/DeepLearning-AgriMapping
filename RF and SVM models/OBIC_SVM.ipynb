{
 "cells": [
  {
   "cell_type": "markdown",
   "id": "6b8ab9ab-b1d4-4493-9bd4-0afd09b4bf64",
   "metadata": {},
   "source": [
    "# Project title:- \n",
    "Advancing Earth Observation Data and ResUNet-Deep Learning Model for Irrigated Area Mapping: The Case of Along the Awash Valley, Ethiopia\n"
   ]
  },
  {
   "cell_type": "markdown",
   "id": "a09cf67c-2447-4036-94d3-c1ec97680ef0",
   "metadata": {},
   "source": [
    "\n",
    "# Object Based Image Classification (OBIC) using Support Vector Machine (SVM) classifier\n",
    "\n",
    "This Jupyter notebook demonstrates how to apply OBIC using RF classifier  with the ESA EO-Africa inovation lab cloud computing environment.\n",
    "\n",
    "**Prerequisites for running this notebook**\n",
    "\n",
    "Several packages need to be installed and/or imported for running this script:\n",
    "\n",
    "The `rasterio, skimage, sklearn,numpy and geopandas` modules should be installed first to apply OBIC based RF classifier ;\n"
   ]
  },
  {
   "cell_type": "markdown",
   "id": "fbd37d78-e835-4eb7-b06a-ff48c83cccff",
   "metadata": {},
   "source": [
    "## Importing the relevant modules \n"
   ]
  },
  {
   "cell_type": "code",
   "execution_count": 15,
   "id": "8f0e2676-4f58-4ffa-8b0c-fd142a05b3a3",
   "metadata": {
    "tags": []
   },
   "outputs": [],
   "source": [
    "import rasterio\n",
    "import numpy as np\n",
    "from rasterio.plot import show\n",
    "from skimage import io, segmentation, color\n",
    "from sklearn.svm import SVC\n",
    "from sklearn.model_selection import train_test_split\n",
    "from sklearn.metrics import accuracy_score\n",
    "import geopandas as gpd"
   ]
  },
  {
   "cell_type": "markdown",
   "id": "264a2f5d-feaf-4983-82dc-eda88eccfa71",
   "metadata": {
    "tags": []
   },
   "source": [
    "### Load RGB image"
   ]
  },
  {
   "cell_type": "code",
   "execution_count": 2,
   "id": "ee9535c4-ef42-43ed-964f-ce78fdc6ea7b",
   "metadata": {
    "tags": []
   },
   "outputs": [],
   "source": [
    "sentinel_image_path = \"/home/eoafrica/Sentinel2_AWbasin/sentinel2_layerstack/stacked_image.tif\"\n",
    "with rasterio.open(sentinel_image_path) as src:\n",
    "   rgb_image = src.read()"
   ]
  },
  {
   "cell_type": "markdown",
   "id": "7d4e1eb7-4b42-4e1d-bab8-906074bbaacd",
   "metadata": {
    "tags": []
   },
   "source": [
    "### Load the ground control points (GCP) data from Shapefile"
   ]
  },
  {
   "cell_type": "code",
   "execution_count": 3,
   "id": "e7850532-d331-4529-ac90-5b861e1ab6bb",
   "metadata": {
    "tags": []
   },
   "outputs": [],
   "source": [
    "gcp_shapefile_path = \"/home/eoafrica/Sentinel2_AWbasin/GCP_LULCawash/lulcgcp.shp\"\n",
    "gcp_data = gpd.read_file(gcp_shapefile_path)"
   ]
  },
  {
   "cell_type": "markdown",
   "id": "df52f8da-bdfe-4380-b1b5-9c6b64a3ad05",
   "metadata": {
    "tags": []
   },
   "source": [
    "### Extract coordinates and class labels from the GCP data"
   ]
  },
  {
   "cell_type": "code",
   "execution_count": 4,
   "id": "ebe681fb-0f38-4471-8248-5c32dba6a80e",
   "metadata": {
    "tags": []
   },
   "outputs": [],
   "source": [
    "gcp_coords = np.column_stack((gcp_data.geometry.x, gcp_data.geometry.y))\n",
    "gcp_labels = gcp_data['class_labe'].values"
   ]
  },
  {
   "cell_type": "markdown",
   "id": "1937e6a1-b7ad-43df-b60d-05878130a819",
   "metadata": {
    "tags": []
   },
   "source": [
    "### Check shapes"
   ]
  },
  {
   "cell_type": "code",
   "execution_count": 4,
   "id": "79f06aa5-0630-402c-82a4-25121c471ed4",
   "metadata": {
    "tags": []
   },
   "outputs": [],
   "source": [
    "print(\"gcp_coords shape:\", gcp_coords.shape)\n",
    "print(\"gcp_labels shape:\", gcp_labels.shape)"
   ]
  },
  {
   "cell_type": "markdown",
   "id": "087123a1-4f09-4d8a-a846-c9e51b6b1d20",
   "metadata": {
    "tags": []
   },
   "source": [
    "### Convert GCP coordinates to image indices"
   ]
  },
  {
   "cell_type": "code",
   "execution_count": 4,
   "id": "09f148e9-9b04-4432-9ea5-4d0ed96303b2",
   "metadata": {
    "tags": []
   },
   "outputs": [
    {
     "name": "stdout",
     "output_type": "stream",
     "text": [
      "gcp_coords shape: (88, 2)\n",
      "gcp_labels shape: (88,)\n"
     ]
    }
   ],
   "source": [
    "gcp_indices = np.floor(src.index(gcp_coords[:, 0], gcp_coords[:, 1]))\n"
   ]
  },
  {
   "cell_type": "markdown",
   "id": "9f94978e-4020-4e50-bbce-68532fbf6606",
   "metadata": {
    "tags": []
   },
   "source": [
    "### Extract RGB values at GCP locations"
   ]
  },
  {
   "cell_type": "code",
   "execution_count": 5,
   "id": "21c8a25d-57fe-4175-ac17-6fecebadca1a",
   "metadata": {
    "tags": []
   },
   "outputs": [],
   "source": [
    "gcp_rgb_values = rgb_image[:, gcp_indices[1].astype(int), gcp_indices[0].astype(int)].T"
   ]
  },
  {
   "cell_type": "markdown",
   "id": "b025e6d2-2071-4c30-b4e8-3ac1f425173a",
   "metadata": {
    "tags": []
   },
   "source": [
    "###  Split data into training and testing sets"
   ]
  },
  {
   "cell_type": "code",
   "execution_count": 6,
   "id": "f5ecd907-abe1-4aa5-b1ab-abe79a641a8b",
   "metadata": {
    "tags": []
   },
   "outputs": [],
   "source": [
    "X_train, X_test, y_train, y_test = train_test_split(gcp_rgb_values, gcp_labels, test_size=0.2, random_state=42)"
   ]
  },
  {
   "cell_type": "markdown",
   "id": "e1c337bc-3997-4367-a189-80faaf99224f",
   "metadata": {
    "tags": []
   },
   "source": [
    "### Remove rows with NaN values from the GCP data"
   ]
  },
  {
   "cell_type": "code",
   "execution_count": 7,
   "id": "776b3b87-d539-456c-b3a1-d674ae81d74e",
   "metadata": {
    "tags": []
   },
   "outputs": [],
   "source": [
    "valid_indices = ~np.isnan(y_train)\n",
    "X_train = X_train[valid_indices]\n",
    "y_train = y_train[valid_indices]"
   ]
  },
  {
   "cell_type": "markdown",
   "id": "2b65296b-daa7-4686-8d39-4c419e4f43ce",
   "metadata": {
    "tags": []
   },
   "source": [
    "### Train a Random Forest classifier"
   ]
  },
  {
   "cell_type": "code",
   "execution_count": 8,
   "id": "222d2314-25f4-4972-a4d6-1147f88b76b2",
   "metadata": {
    "tags": []
   },
   "outputs": [
    {
     "data": {
      "text/html": [
       "<style>#sk-container-id-1 {color: black;}#sk-container-id-1 pre{padding: 0;}#sk-container-id-1 div.sk-toggleable {background-color: white;}#sk-container-id-1 label.sk-toggleable__label {cursor: pointer;display: block;width: 100%;margin-bottom: 0;padding: 0.3em;box-sizing: border-box;text-align: center;}#sk-container-id-1 label.sk-toggleable__label-arrow:before {content: \"▸\";float: left;margin-right: 0.25em;color: #696969;}#sk-container-id-1 label.sk-toggleable__label-arrow:hover:before {color: black;}#sk-container-id-1 div.sk-estimator:hover label.sk-toggleable__label-arrow:before {color: black;}#sk-container-id-1 div.sk-toggleable__content {max-height: 0;max-width: 0;overflow: hidden;text-align: left;background-color: #f0f8ff;}#sk-container-id-1 div.sk-toggleable__content pre {margin: 0.2em;color: black;border-radius: 0.25em;background-color: #f0f8ff;}#sk-container-id-1 input.sk-toggleable__control:checked~div.sk-toggleable__content {max-height: 200px;max-width: 100%;overflow: auto;}#sk-container-id-1 input.sk-toggleable__control:checked~label.sk-toggleable__label-arrow:before {content: \"▾\";}#sk-container-id-1 div.sk-estimator input.sk-toggleable__control:checked~label.sk-toggleable__label {background-color: #d4ebff;}#sk-container-id-1 div.sk-label input.sk-toggleable__control:checked~label.sk-toggleable__label {background-color: #d4ebff;}#sk-container-id-1 input.sk-hidden--visually {border: 0;clip: rect(1px 1px 1px 1px);clip: rect(1px, 1px, 1px, 1px);height: 1px;margin: -1px;overflow: hidden;padding: 0;position: absolute;width: 1px;}#sk-container-id-1 div.sk-estimator {font-family: monospace;background-color: #f0f8ff;border: 1px dotted black;border-radius: 0.25em;box-sizing: border-box;margin-bottom: 0.5em;}#sk-container-id-1 div.sk-estimator:hover {background-color: #d4ebff;}#sk-container-id-1 div.sk-parallel-item::after {content: \"\";width: 100%;border-bottom: 1px solid gray;flex-grow: 1;}#sk-container-id-1 div.sk-label:hover label.sk-toggleable__label {background-color: #d4ebff;}#sk-container-id-1 div.sk-serial::before {content: \"\";position: absolute;border-left: 1px solid gray;box-sizing: border-box;top: 0;bottom: 0;left: 50%;z-index: 0;}#sk-container-id-1 div.sk-serial {display: flex;flex-direction: column;align-items: center;background-color: white;padding-right: 0.2em;padding-left: 0.2em;position: relative;}#sk-container-id-1 div.sk-item {position: relative;z-index: 1;}#sk-container-id-1 div.sk-parallel {display: flex;align-items: stretch;justify-content: center;background-color: white;position: relative;}#sk-container-id-1 div.sk-item::before, #sk-container-id-1 div.sk-parallel-item::before {content: \"\";position: absolute;border-left: 1px solid gray;box-sizing: border-box;top: 0;bottom: 0;left: 50%;z-index: -1;}#sk-container-id-1 div.sk-parallel-item {display: flex;flex-direction: column;z-index: 1;position: relative;background-color: white;}#sk-container-id-1 div.sk-parallel-item:first-child::after {align-self: flex-end;width: 50%;}#sk-container-id-1 div.sk-parallel-item:last-child::after {align-self: flex-start;width: 50%;}#sk-container-id-1 div.sk-parallel-item:only-child::after {width: 0;}#sk-container-id-1 div.sk-dashed-wrapped {border: 1px dashed gray;margin: 0 0.4em 0.5em 0.4em;box-sizing: border-box;padding-bottom: 0.4em;background-color: white;}#sk-container-id-1 div.sk-label label {font-family: monospace;font-weight: bold;display: inline-block;line-height: 1.2em;}#sk-container-id-1 div.sk-label-container {text-align: center;}#sk-container-id-1 div.sk-container {/* jupyter's `normalize.less` sets `[hidden] { display: none; }` but bootstrap.min.css set `[hidden] { display: none !important; }` so we also need the `!important` here to be able to override the default hidden behavior on the sphinx rendered scikit-learn.org. See: https://github.com/scikit-learn/scikit-learn/issues/21755 */display: inline-block !important;position: relative;}#sk-container-id-1 div.sk-text-repr-fallback {display: none;}</style><div id=\"sk-container-id-1\" class=\"sk-top-container\"><div class=\"sk-text-repr-fallback\"><pre>SVC(kernel=&#x27;linear&#x27;)</pre><b>In a Jupyter environment, please rerun this cell to show the HTML representation or trust the notebook. <br />On GitHub, the HTML representation is unable to render, please try loading this page with nbviewer.org.</b></div><div class=\"sk-container\" hidden><div class=\"sk-item\"><div class=\"sk-estimator sk-toggleable\"><input class=\"sk-toggleable__control sk-hidden--visually\" id=\"sk-estimator-id-1\" type=\"checkbox\" checked><label for=\"sk-estimator-id-1\" class=\"sk-toggleable__label sk-toggleable__label-arrow\">SVC</label><div class=\"sk-toggleable__content\"><pre>SVC(kernel=&#x27;linear&#x27;)</pre></div></div></div></div></div>"
      ],
      "text/plain": [
       "SVC(kernel='linear')"
      ]
     },
     "execution_count": 8,
     "metadata": {},
     "output_type": "execute_result"
    }
   ],
   "source": [
    "classifier = SVC(kernel='linear', C=1.0)\n",
    "classifier.fit(X_train, y_train)"
   ]
  },
  {
   "cell_type": "markdown",
   "id": "529a7ce2-2e8b-4ead-a935-97222d2612cf",
   "metadata": {
    "tags": []
   },
   "source": [
    "### Predict labels for the entire image"
   ]
  },
  {
   "cell_type": "code",
   "execution_count": 9,
   "id": "683b790e-381f-4288-ae4c-282bf5b1f953",
   "metadata": {
    "tags": []
   },
   "outputs": [],
   "source": [
    "rgb_image_reshaped = np.moveaxis(rgb_image, 0, -1)\n",
    "segments = segmentation.slic(rgb_image_reshaped, compactness=20, n_segments=500)\n",
    "segmented_image = color.label2rgb(segments, rgb_image_reshaped, kind='avg')"
   ]
  },
  {
   "cell_type": "markdown",
   "id": "e3851594-1a71-4115-8507-310c59cd22b0",
   "metadata": {},
   "source": [
    "### Extract features for each segment"
   ]
  },
  {
   "cell_type": "code",
   "execution_count": 10,
   "id": "f2e5b3a9-2410-4d8f-834d-d8210771b8e3",
   "metadata": {},
   "outputs": [],
   "source": [
    "segment_features = []\n",
    "for segment_id in np.unique(segments):\n",
    "    segment_mask = segments == segment_id\n",
    "    segment_rgb_values = rgb_image_reshaped[segment_mask]\n",
    "    segment_features.append(np.mean(segment_rgb_values, axis=0))"
   ]
  },
  {
   "cell_type": "markdown",
   "id": "fa2fd6d1-6bbb-4485-9c2a-96589a930066",
   "metadata": {},
   "source": [
    "### Classify segments"
   ]
  },
  {
   "cell_type": "code",
   "execution_count": 11,
   "id": "b80ff980-e1d9-4f00-b6e6-8f023eefbb90",
   "metadata": {},
   "outputs": [],
   "source": [
    "predicted_labels = classifier.predict(segment_features)"
   ]
  },
  {
   "cell_type": "markdown",
   "id": "77bc5ec0-3bf4-4fb7-ba09-2089f15c20bf",
   "metadata": {},
   "source": [
    "### Visualize the classified image "
   ]
  },
  {
   "cell_type": "code",
   "execution_count": 12,
   "id": "2880a0e2-2ae1-4957-92dd-4209dc3b2c41",
   "metadata": {},
   "outputs": [
    {
     "name": "stderr",
     "output_type": "stream",
     "text": [
      "/usr/local/lib/python3.8/dist-packages/skimage/io/_plugins/matplotlib_plugin.py:149: UserWarning: Low image data range; displaying image with stretched contrast.\n",
      "  lo, hi, cmap = _get_display_range(image)\n"
     ]
    },
    {
     "data": {
      "text/plain": [
       "<matplotlib.image.AxesImage at 0x7f2751ded850>"
      ]
     },
     "execution_count": 12,
     "metadata": {},
     "output_type": "execute_result"
    },
    {
     "data": {
      "image/png": "[encoded data removed]",
      "text/plain": [
       "<Figure size 640x480 with 2 Axes>"
      ]
     },
     "metadata": {},
     "output_type": "display_data"
    }
   ],
   "source": [
    "classified_image = np.zeros_like(segments)\n",
    "for segment_id, label in zip(np.unique(segments), predicted_labels):\n",
    "    classified_image[segments == segment_id] = label\n",
    "\n",
    "io.imshow(classified_image)"
   ]
  },
  {
   "cell_type": "code",
   "execution_count": null,
   "id": "6402dec4-fef9-41cf-b9f8-6e97d7f3c884",
   "metadata": {},
   "outputs": [],
   "source": []
  }
 ],
 "metadata": {
  "kernelspec": {
   "display_name": "Python 3 (ipykernel)",
   "language": "python",
   "name": "python3"
  },
  "language_info": {
   "codemirror_mode": {
    "name": "ipython",
    "version": 3
   },
   "file_extension": ".py",
   "mimetype": "text/x-python",
   "name": "python",
   "nbconvert_exporter": "python",
   "pygments_lexer": "ipython3",
   "version": "3.8.10"
  }
 },
 "nbformat": 4,
 "nbformat_minor": 5
}
