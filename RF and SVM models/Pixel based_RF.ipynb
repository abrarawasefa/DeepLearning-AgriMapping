{
 "cells": [
  {
   "cell_type": "markdown",
   "id": "9103b8b3-e781-41a8-9e02-187eddb16192",
   "metadata": {},
   "source": [
    "# Project title:- \n",
    "Advancing Earth Observation Data and ResUNet-Deep Learning Model for Irrigated Area Mapping: The Case of Along the Awash Valley, Ethiopia\n"
   ]
  },
  {
   "cell_type": "markdown",
   "id": "d37605f6-d513-4296-8006-521050ac3306",
   "metadata": {},
   "source": [
    "\n",
    "# Pixel Based Image Classification (PBIC) using Random Forest (RF) classifier\n",
    "\n",
    "This Jupyter notebook demonstrates how to apply PBIC using RF classifier  with the ESA EO-Africa inovation lab cloud computing environment.\n",
    "\n",
    "**Prerequisites for running this notebook**\n",
    "\n",
    "Several packages need to be installed and/or imported for running this script:\n",
    "\n",
    "The `rasterio, geopandas,sklearn,and numpy` modules should be installed first to apply PBIC based RF classifier ;\n"
   ]
  },
  {
   "cell_type": "markdown",
   "id": "8bb0ea86-454a-4c1f-959e-e9ebb7071e8e",
   "metadata": {},
   "source": [
    "### Import Relevant Packages "
   ]
  },
  {
   "cell_type": "code",
   "execution_count": 1,
   "id": "91473143-b585-4ddb-b596-4db2e632c060",
   "metadata": {
    "tags": []
   },
   "outputs": [],
   "source": [
    "import rasterio\n",
    "import numpy as np\n",
    "from sklearn.ensemble import RandomForestClassifier\n",
    "from sklearn.model_selection import train_test_split\n",
    "from sklearn.metrics import accuracy_score\n",
    "import geopandas as gpd\n",
    "from rasterio.mask import mask\n",
    "from rasterio.features import geometry_mask"
   ]
  },
  {
   "cell_type": "markdown",
   "id": "ee21fd23-e662-4c6d-8a5e-bf982156a80e",
   "metadata": {
    "tags": []
   },
   "source": [
    "### Load Sentinel-2 image"
   ]
  },
  {
   "cell_type": "code",
   "execution_count": 2,
   "id": "9aa58599-4544-4f66-a23f-9afb53d5857a",
   "metadata": {
    "tags": []
   },
   "outputs": [],
   "source": [
    "sentinel_image_path = \"/home/eoafrica/Sentinel2_AWbasin/sentinel2_layerstack/stacked_image.tif\"\n",
    "with rasterio.open(sentinel_image_path) as src:\n",
    "    sentinel_image = src.read()"
   ]
  },
  {
   "cell_type": "markdown",
   "id": "89bb8386-0350-4f7c-9719-27bf82165b42",
   "metadata": {
    "tags": []
   },
   "source": [
    "###  Load ground truth GCP shapefile data"
   ]
  },
  {
   "cell_type": "markdown",
   "id": "05ba36a0-ced7-422a-8bc5-658fa335ffb8",
   "metadata": {
    "tags": []
   },
   "source": [
    "### Load ground truth GCP shapefile data"
   ]
  },
  {
   "cell_type": "code",
   "execution_count": 3,
   "id": "4ef3ac96-c0e3-49e7-ab43-53340d2fc9c8",
   "metadata": {
    "tags": []
   },
   "outputs": [],
   "source": [
    "gcp_shapefile_path = \"/home/eoafrica/Sentinel2_AWbasin/GCP_LULCawash/lulcgcp.shp\"\n",
    "gcp_data = gpd.read_file(gcp_shapefile_path)"
   ]
  },
  {
   "cell_type": "markdown",
   "id": "a63f2a8b-cd13-4a71-a3b0-3706cdd4ab92",
   "metadata": {
    "tags": []
   },
   "source": [
    "### Extract the values of the image pixels at the locations of the GCPs"
   ]
  },
  {
   "cell_type": "code",
   "execution_count": 4,
   "id": "1bd53de8-bbb5-42b2-9ef0-6e14e9af4dc6",
   "metadata": {
    "tags": []
   },
   "outputs": [],
   "source": [
    "gcp_points = gcp_data.geometry.apply(lambda geom: (geom.x, geom.y)).tolist()\n",
    "gcp_values = []\n",
    "for point in gcp_points:\n",
    "    row, col = src.index(point[0], point[1])\n",
    "    gcp_values.append(sentinel_image[:, row, col])\n",
    "\n",
    "gcp_values = np.array(gcp_values)"
   ]
  },
  {
   "cell_type": "markdown",
   "id": "46614f8b-4ed5-4611-b21a-c2954a27f8e5",
   "metadata": {
    "tags": []
   },
   "source": [
    "###  Extract corresponding class labels from the GCP data"
   ]
  },
  {
   "cell_type": "code",
   "execution_count": 5,
   "id": "95940b57-4c55-47a3-a98c-9ac5781353e3",
   "metadata": {
    "tags": []
   },
   "outputs": [],
   "source": [
    "class_labels = gcp_data[\"class_labe\"].values.astype(int)"
   ]
  },
  {
   "cell_type": "markdown",
   "id": "9731373f-cb73-43a8-87f4-93af1c4fe0dd",
   "metadata": {
    "tags": []
   },
   "source": [
    "###  Split data into training and testing sets"
   ]
  },
  {
   "cell_type": "code",
   "execution_count": 6,
   "id": "0ef89c1c-1d67-4b32-9a99-a4e69e5f6829",
   "metadata": {
    "tags": []
   },
   "outputs": [],
   "source": [
    "X_train, X_test, y_train, y_test = train_test_split(gcp_values, class_labels, test_size=0.3, random_state=42)"
   ]
  },
  {
   "cell_type": "markdown",
   "id": "0b730b7f-2044-4a33-867c-ab7b2afe4b24",
   "metadata": {
    "tags": []
   },
   "source": [
    "### Train Random Forest classifier"
   ]
  },
  {
   "cell_type": "code",
   "execution_count": 7,
   "id": "21bc1477-dee2-43b2-b99b-5fb1cf7c42c5",
   "metadata": {
    "tags": []
   },
   "outputs": [
    {
     "data": {
      "text/html": [
       "<style>#sk-container-id-1 {color: black;}#sk-container-id-1 pre{padding: 0;}#sk-container-id-1 div.sk-toggleable {background-color: white;}#sk-container-id-1 label.sk-toggleable__label {cursor: pointer;display: block;width: 100%;margin-bottom: 0;padding: 0.3em;box-sizing: border-box;text-align: center;}#sk-container-id-1 label.sk-toggleable__label-arrow:before {content: \"▸\";float: left;margin-right: 0.25em;color: #696969;}#sk-container-id-1 label.sk-toggleable__label-arrow:hover:before {color: black;}#sk-container-id-1 div.sk-estimator:hover label.sk-toggleable__label-arrow:before {color: black;}#sk-container-id-1 div.sk-toggleable__content {max-height: 0;max-width: 0;overflow: hidden;text-align: left;background-color: #f0f8ff;}#sk-container-id-1 div.sk-toggleable__content pre {margin: 0.2em;color: black;border-radius: 0.25em;background-color: #f0f8ff;}#sk-container-id-1 input.sk-toggleable__control:checked~div.sk-toggleable__content {max-height: 200px;max-width: 100%;overflow: auto;}#sk-container-id-1 input.sk-toggleable__control:checked~label.sk-toggleable__label-arrow:before {content: \"▾\";}#sk-container-id-1 div.sk-estimator input.sk-toggleable__control:checked~label.sk-toggleable__label {background-color: #d4ebff;}#sk-container-id-1 div.sk-label input.sk-toggleable__control:checked~label.sk-toggleable__label {background-color: #d4ebff;}#sk-container-id-1 input.sk-hidden--visually {border: 0;clip: rect(1px 1px 1px 1px);clip: rect(1px, 1px, 1px, 1px);height: 1px;margin: -1px;overflow: hidden;padding: 0;position: absolute;width: 1px;}#sk-container-id-1 div.sk-estimator {font-family: monospace;background-color: #f0f8ff;border: 1px dotted black;border-radius: 0.25em;box-sizing: border-box;margin-bottom: 0.5em;}#sk-container-id-1 div.sk-estimator:hover {background-color: #d4ebff;}#sk-container-id-1 div.sk-parallel-item::after {content: \"\";width: 100%;border-bottom: 1px solid gray;flex-grow: 1;}#sk-container-id-1 div.sk-label:hover label.sk-toggleable__label {background-color: #d4ebff;}#sk-container-id-1 div.sk-serial::before {content: \"\";position: absolute;border-left: 1px solid gray;box-sizing: border-box;top: 0;bottom: 0;left: 50%;z-index: 0;}#sk-container-id-1 div.sk-serial {display: flex;flex-direction: column;align-items: center;background-color: white;padding-right: 0.2em;padding-left: 0.2em;position: relative;}#sk-container-id-1 div.sk-item {position: relative;z-index: 1;}#sk-container-id-1 div.sk-parallel {display: flex;align-items: stretch;justify-content: center;background-color: white;position: relative;}#sk-container-id-1 div.sk-item::before, #sk-container-id-1 div.sk-parallel-item::before {content: \"\";position: absolute;border-left: 1px solid gray;box-sizing: border-box;top: 0;bottom: 0;left: 50%;z-index: -1;}#sk-container-id-1 div.sk-parallel-item {display: flex;flex-direction: column;z-index: 1;position: relative;background-color: white;}#sk-container-id-1 div.sk-parallel-item:first-child::after {align-self: flex-end;width: 50%;}#sk-container-id-1 div.sk-parallel-item:last-child::after {align-self: flex-start;width: 50%;}#sk-container-id-1 div.sk-parallel-item:only-child::after {width: 0;}#sk-container-id-1 div.sk-dashed-wrapped {border: 1px dashed gray;margin: 0 0.4em 0.5em 0.4em;box-sizing: border-box;padding-bottom: 0.4em;background-color: white;}#sk-container-id-1 div.sk-label label {font-family: monospace;font-weight: bold;display: inline-block;line-height: 1.2em;}#sk-container-id-1 div.sk-label-container {text-align: center;}#sk-container-id-1 div.sk-container {/* jupyter's `normalize.less` sets `[hidden] { display: none; }` but bootstrap.min.css set `[hidden] { display: none !important; }` so we also need the `!important` here to be able to override the default hidden behavior on the sphinx rendered scikit-learn.org. See: https://github.com/scikit-learn/scikit-learn/issues/21755 */display: inline-block !important;position: relative;}#sk-container-id-1 div.sk-text-repr-fallback {display: none;}</style><div id=\"sk-container-id-1\" class=\"sk-top-container\"><div class=\"sk-text-repr-fallback\"><pre>RandomForestClassifier(random_state=42)</pre><b>In a Jupyter environment, please rerun this cell to show the HTML representation or trust the notebook. <br />On GitHub, the HTML representation is unable to render, please try loading this page with nbviewer.org.</b></div><div class=\"sk-container\" hidden><div class=\"sk-item\"><div class=\"sk-estimator sk-toggleable\"><input class=\"sk-toggleable__control sk-hidden--visually\" id=\"sk-estimator-id-1\" type=\"checkbox\" checked><label for=\"sk-estimator-id-1\" class=\"sk-toggleable__label sk-toggleable__label-arrow\">RandomForestClassifier</label><div class=\"sk-toggleable__content\"><pre>RandomForestClassifier(random_state=42)</pre></div></div></div></div></div>"
      ],
      "text/plain": [
       "RandomForestClassifier(random_state=42)"
      ]
     },
     "execution_count": 7,
     "metadata": {},
     "output_type": "execute_result"
    }
   ],
   "source": [
    "clf = RandomForestClassifier(n_estimators=100, random_state=42)\n",
    "clf.fit(X_train, y_train)"
   ]
  },
  {
   "cell_type": "markdown",
   "id": "45689f20-c632-4653-a6e8-839e2c2ebdb3",
   "metadata": {
    "tags": []
   },
   "source": [
    "### Predict on the test set"
   ]
  },
  {
   "cell_type": "code",
   "execution_count": 8,
   "id": "f02b3bd0-3d63-44d6-a0de-66128d9f7866",
   "metadata": {
    "tags": []
   },
   "outputs": [],
   "source": [
    "y_pred = clf.predict(X_test)"
   ]
  },
  {
   "cell_type": "markdown",
   "id": "690863c6-062d-4f85-81b9-3f74b5404c28",
   "metadata": {
    "tags": []
   },
   "source": [
    "### Calculate accuracy"
   ]
  },
  {
   "cell_type": "code",
   "execution_count": 9,
   "id": "60d02534-530b-4e07-b2ce-3b43da2a5e29",
   "metadata": {
    "tags": []
   },
   "outputs": [
    {
     "name": "stdout",
     "output_type": "stream",
     "text": [
      "Accuracy: 0.5185185185185185\n"
     ]
    }
   ],
   "source": [
    "accuracy = accuracy_score(y_test, y_pred)\n",
    "print(\"Accuracy:\", accuracy)"
   ]
  },
  {
   "cell_type": "markdown",
   "id": "c6177e2a-985f-46a7-892e-ca4ecac91536",
   "metadata": {
    "tags": []
   },
   "source": [
    "###  Classify the whole image"
   ]
  },
  {
   "cell_type": "code",
   "execution_count": null,
   "id": "f82695ac-8b4e-4a7c-b71b-5bc76cb0b521",
   "metadata": {
    "tags": []
   },
   "outputs": [],
   "source": [
    "predicted_image = np.zeros_like(sentinel_image[0])\n",
    "for i in range(sentinel_image.shape[1]):\n",
    "    for j in range(sentinel_image.shape[2]):\n",
    "        pixel_values = sentinel_image[:, i, j].reshape(1, -1)\n",
    "        predicted_class = clf.predict(pixel_values)\n",
    "        predicted_image[i, j] = predicted_class"
   ]
  },
  {
   "cell_type": "markdown",
   "id": "6eec3a63-0712-4ff2-8fc8-184e90d75d8e",
   "metadata": {},
   "source": [
    "### Save the classified image"
   ]
  },
  {
   "cell_type": "code",
   "execution_count": null,
   "id": "d8710da0-99cf-49f2-b7c4-bab356a0d206",
   "metadata": {},
   "outputs": [],
   "source": [
    "# Save the classified image\n",
    "classified_image_path = \"/home/eoafrica/Sentinel2_AWbasin/RF_LULCresult/classified_image.tif\"  # Path to save the classified image\n",
    "with rasterio.open(classified_image_path, 'w', **profile) as dst:\n",
    "    dst.write(classified_image.astype(rasterio.uint8))"
   ]
  },
  {
   "cell_type": "code",
   "execution_count": null,
   "id": "7a4464b2-e40c-4fdb-bcc2-ee7976c0fd85",
   "metadata": {},
   "outputs": [],
   "source": []
  }
 ],
 "metadata": {
  "kernelspec": {
   "display_name": "Python 3 (ipykernel)",
   "language": "python",
   "name": "python3"
  },
  "language_info": {
   "codemirror_mode": {
    "name": "ipython",
    "version": 3
   },
   "file_extension": ".py",
   "mimetype": "text/x-python",
   "name": "python",
   "nbconvert_exporter": "python",
   "pygments_lexer": "ipython3",
   "version": "3.8.10"
  }
 },
 "nbformat": 4,
 "nbformat_minor": 5
}
