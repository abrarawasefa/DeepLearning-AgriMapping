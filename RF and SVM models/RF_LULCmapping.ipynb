{
 "cells": [
  {
   "cell_type": "code",
   "execution_count": null,
   "id": "b3887d68-cc0d-4f11-b7f1-d177c449ea94",
   "metadata": {
    "tags": []
   },
   "outputs": [],
   "source": [
    "pip install rasterio geopandas scikit-learn numpy\n"
   ]
  },
  {
   "cell_type": "markdown",
   "id": "8bb0ea86-454a-4c1f-959e-e9ebb7071e8e",
   "metadata": {},
   "source": [
    "### Import Relevant Packages "
   ]
  },
  {
   "cell_type": "code",
   "execution_count": 1,
   "id": "91473143-b585-4ddb-b596-4db2e632c060",
   "metadata": {
    "tags": []
   },
   "outputs": [],
   "source": [
    "import rasterio\n",
    "import numpy as np\n",
    "from sklearn.ensemble import RandomForestClassifier\n",
    "from sklearn.model_selection import train_test_split\n",
    "from sklearn.metrics import accuracy_score\n",
    "import geopandas as gpd\n",
    "from rasterio.mask import mask\n",
    "from rasterio.features import geometry_mask"
   ]
  },
  {
   "cell_type": "markdown",
   "id": "ee21fd23-e662-4c6d-8a5e-bf982156a80e",
   "metadata": {
    "tags": []
   },
   "source": [
    "### Load Sentinel-2 image"
   ]
  },
  {
   "cell_type": "code",
   "execution_count": null,
   "id": "9aa58599-4544-4f66-a23f-9afb53d5857a",
   "metadata": {
    "tags": []
   },
   "outputs": [],
   "source": [
    "sentinel_image_path = \"/home/eoafrica/Sentinel2_AWbasin/outputs_rgb/stacked_rgb.tif\"\n",
    "with rasterio.open(sentinel_image_path) as src:\n",
    "    sentinel_image = src.read()"
   ]
  },
  {
   "cell_type": "markdown",
   "id": "89bb8386-0350-4f7c-9719-27bf82165b42",
   "metadata": {
    "tags": []
   },
   "source": [
    "###  Load ground truth GCP shapefile data"
   ]
  },
  {
   "cell_type": "code",
   "execution_count": 5,
   "id": "bdbbd6cf-2d2d-4b23-b2b0-79b07ee11768",
   "metadata": {
    "tags": []
   },
   "outputs": [],
   "source": [
    "gcp_shapefile_path \n",
    "\n",
    "gcp_data = gpd.read_file(gcp_shapefile_path)"
   ]
  },
  {
   "cell_type": "markdown",
   "id": "a63f2a8b-cd13-4a71-a3b0-3706cdd4ab92",
   "metadata": {
    "tags": []
   },
   "source": [
    "### Extract the values of the image pixels at the locations of the GCPs"
   ]
  },
  {
   "cell_type": "code",
   "execution_count": 6,
   "id": "1bd53de8-bbb5-42b2-9ef0-6e14e9af4dc6",
   "metadata": {
    "tags": []
   },
   "outputs": [],
   "source": [
    "gcp_points = gcp_data.geometry.apply(lambda geom: (geom.x, geom.y)).tolist()\n",
    "gcp_values = []\n",
    "for point in gcp_points:\n",
    "    row, col = src.index(point[0], point[1])\n",
    "    gcp_values.append(sentinel_image[:, row, col])\n",
    "\n",
    "gcp_values = np.array(gcp_values)"
   ]
  },
  {
   "cell_type": "markdown",
   "id": "46614f8b-4ed5-4611-b21a-c2954a27f8e5",
   "metadata": {
    "tags": []
   },
   "source": [
    "###  Extract corresponding class labels from the GCP data"
   ]
  },
  {
   "cell_type": "code",
   "execution_count": 8,
   "id": "95940b57-4c55-47a3-a98c-9ac5781353e3",
   "metadata": {
    "tags": []
   },
   "outputs": [],
   "source": [
    "class_labels = gcp_data[\"class_labe\"].values.astype(int)"
   ]
  },
  {
   "cell_type": "markdown",
   "id": "9731373f-cb73-43a8-87f4-93af1c4fe0dd",
   "metadata": {
    "tags": []
   },
   "source": [
    "###  Split data into training and testing sets"
   ]
  },
  {
   "cell_type": "code",
   "execution_count": 9,
   "id": "0ef89c1c-1d67-4b32-9a99-a4e69e5f6829",
   "metadata": {
    "tags": []
   },
   "outputs": [],
   "source": [
    "X_train, X_test, y_train, y_test = train_test_split(gcp_values, class_labels, test_size=0.3, random_state=42)"
   ]
  },
  {
   "cell_type": "markdown",
   "id": "0b730b7f-2044-4a33-867c-ab7b2afe4b24",
   "metadata": {
    "tags": []
   },
   "source": [
    "### Train Random Forest classifier"
   ]
  },
  {
   "cell_type": "code",
   "execution_count": null,
   "id": "21bc1477-dee2-43b2-b99b-5fb1cf7c42c5",
   "metadata": {
    "tags": []
   },
   "outputs": [],
   "source": [
    "clf = RandomForestClassifier(n_estimators=100, random_state=42)\n",
    "clf.fit(X_train, y_train)"
   ]
  },
  {
   "cell_type": "markdown",
   "id": "45689f20-c632-4653-a6e8-839e2c2ebdb3",
   "metadata": {
    "tags": []
   },
   "source": [
    "### Predict on the test set"
   ]
  },
  {
   "cell_type": "code",
   "execution_count": 11,
   "id": "f02b3bd0-3d63-44d6-a0de-66128d9f7866",
   "metadata": {
    "tags": []
   },
   "outputs": [],
   "source": [
    "y_pred = clf.predict(X_test)"
   ]
  },
  {
   "cell_type": "markdown",
   "id": "690863c6-062d-4f85-81b9-3f74b5404c28",
   "metadata": {
    "tags": []
   },
   "source": [
    "### Calculate accuracy"
   ]
  },
  {
   "cell_type": "code",
   "execution_count": null,
   "id": "60d02534-530b-4e07-b2ce-3b43da2a5e29",
   "metadata": {
    "tags": []
   },
   "outputs": [],
   "source": [
    "accuracy = accuracy_score(y_test, y_pred)\n",
    "print(\"Accuracy:\", accuracy)"
   ]
  },
  {
   "cell_type": "markdown",
   "id": "c6177e2a-985f-46a7-892e-ca4ecac91536",
   "metadata": {
    "tags": []
   },
   "source": [
    "###  Optionally, classify the whole image"
   ]
  },
  {
   "cell_type": "code",
   "execution_count": null,
   "id": "f82695ac-8b4e-4a7c-b71b-5bc76cb0b521",
   "metadata": {
    "tags": []
   },
   "outputs": [],
   "source": [
    "predicted_image = np.zeros_like(sentinel_image[0])\n",
    "for i in range(sentinel_image.shape[1]):\n",
    "    for j in range(sentinel_image.shape[2]):\n",
    "        pixel_values = sentinel_image[:, i, j].reshape(1, -1)\n",
    "        predicted_class = clf.predict(pixel_values)\n",
    "        predicted_image[i, j] = predicted_class"
   ]
  },
  {
   "cell_type": "markdown",
   "id": "6eec3a63-0712-4ff2-8fc8-184e90d75d8e",
   "metadata": {},
   "source": [
    "### Save the classified image"
   ]
  },
  {
   "cell_type": "code",
   "execution_count": null,
   "id": "d8710da0-99cf-49f2-b7c4-bab356a0d206",
   "metadata": {},
   "outputs": [],
   "source": [
    "# Save the classified image\n",
    "classified_image_path = \"/home/eoafrica/Sentinel2_AWbasin/RF_LULCresult/classified_image.tif\"  # Path to save the classified image\n",
    "with rasterio.open(classified_image_path, 'w', **profile) as dst:\n",
    "    dst.write(classified_image.astype(rasterio.uint8))"
   ]
  },
  {
   "cell_type": "raw",
   "id": "47fcbd76-c7a2-4023-bcaf-f09af6305611",
   "metadata": {},
   "source": [
    "with rasterio.open(classified_image_path, \"w\", **src.profile) as dst:\n",
    "    dst.write(classified_image.astype(rasterio.uint8), 1) "
   ]
  }
 ],
 "metadata": {
  "kernelspec": {
   "display_name": "Python 3 (ipykernel)",
   "language": "python",
   "name": "python3"
  },
  "language_info": {
   "codemirror_mode": {
    "name": "ipython",
    "version": 3
   },
   "file_extension": ".py",
   "mimetype": "text/x-python",
   "name": "python",
   "nbconvert_exporter": "python",
   "pygments_lexer": "ipython3",
   "version": "3.8.10"
  }
 },
 "nbformat": 4,
 "nbformat_minor": 5
}
