{
 "cells": [
  {
   "cell_type": "markdown",
   "id": "8b93da16-9574-48ab-8061-e523d6c397fe",
   "metadata": {},
   "source": [
    "# Project title:- \n",
    "Advancing Earth Observation Data and ResUNet-Deep Learning Model for Irrigated Area Mapping: The Case of Along the Awash Valley, Ethiopia\n"
   ]
  },
  {
   "cell_type": "markdown",
   "id": "34e4cfe2-7b41-41da-ad17-467507c3b4d3",
   "metadata": {},
   "source": [
    "\n",
    "#  Grid search Hyperparameter optimization to get the best Random Forest (RF)  parameters and model\n",
    "\n",
    "This Jupyter notebook demonstrates how to apply Grid search hyperparameter optimization  to get the best RF parameters and model   with the ESA EO-Africa inovation lab cloud computing environment.\n",
    "\n",
    "**Prerequisites for running this notebook**\n",
    "\n",
    "Several packages need to be installed and/or imported for running this script:\n",
    "\n",
    "The `rasterio, sklearn,and geopandas` modules should be installed first to apply Grid search Hyperparameter optimization;\n"
   ]
  },
  {
   "cell_type": "markdown",
   "id": "ae42b7a3-e2ec-44a3-bc81-5b716fdf328f",
   "metadata": {},
   "source": [
    "## Import the Relevant Modules"
   ]
  },
  {
   "cell_type": "code",
   "execution_count": 1,
   "id": "2cbbc2f5-4b2f-4142-8f7e-62a872ef6201",
   "metadata": {
    "tags": []
   },
   "outputs": [],
   "source": [
    "import rasterio\n",
    "import numpy as np\n",
    "from sklearn.ensemble import RandomForestClassifier\n",
    "from sklearn.model_selection import train_test_split, GridSearchCV\n",
    "from sklearn.metrics import accuracy_score\n",
    "import geopandas as gpd"
   ]
  },
  {
   "cell_type": "markdown",
   "id": "ecab4240-7300-4c47-b4ed-a9cc700137a1",
   "metadata": {
    "tags": []
   },
   "source": [
    "## Load Sentinel-2 image"
   ]
  },
  {
   "cell_type": "code",
   "execution_count": 2,
   "id": "38e2eeed-d861-425a-ade1-bf883caf3ffc",
   "metadata": {
    "tags": []
   },
   "outputs": [],
   "source": [
    "sentinel_image_path = \"/home/eoafrica/Sentinel2_AWbasin/sentinel2_layerstack/stacked_image.tif\"\n",
    "with rasterio.open(sentinel_image_path) as src:\n",
    "    sentinel_image = src.read()"
   ]
  },
  {
   "cell_type": "markdown",
   "id": "8f99a409-11c3-47f3-940a-8f8c634548b9",
   "metadata": {
    "tags": []
   },
   "source": [
    "## Load ground truth GCP shapefile data"
   ]
  },
  {
   "cell_type": "code",
   "execution_count": 3,
   "id": "51204a11-f119-42a1-b46f-204937fe4d3a",
   "metadata": {
    "tags": []
   },
   "outputs": [],
   "source": [
    "gcp_shapefile_path = \"/home/eoafrica/Sentinel2_AWbasin/GCP_LULCawash/lulcgcp.shp\"\n",
    "gcp_data = gpd.read_file(gcp_shapefile_path)"
   ]
  },
  {
   "cell_type": "markdown",
   "id": "3b370607-eb06-4eed-9ed2-5c2e22ed623b",
   "metadata": {
    "tags": []
   },
   "source": [
    "## Extract the values of the image pixels at the locations of the GCPs"
   ]
  },
  {
   "cell_type": "code",
   "execution_count": 4,
   "id": "25cf6829-a228-453d-9e74-42034922172d",
   "metadata": {
    "tags": []
   },
   "outputs": [],
   "source": [
    "gcp_points = gcp_data.geometry.apply(lambda geom: (geom.x, geom.y)).tolist()\n",
    "gcp_values = []\n",
    "for point in gcp_points:\n",
    "    row, col = src.index(point[0], point[1])\n",
    "    gcp_values.append(sentinel_image[:, row, col])\n",
    "\n",
    "gcp_values = np.array(gcp_values)"
   ]
  },
  {
   "cell_type": "markdown",
   "id": "3b873eb4-987e-45f1-a40d-331277a223b5",
   "metadata": {
    "tags": []
   },
   "source": [
    "## Extract corresponding class labels from the GCP data"
   ]
  },
  {
   "cell_type": "code",
   "execution_count": 5,
   "id": "c760ee25-4895-4f4f-bf87-cfb1c894cc6e",
   "metadata": {
    "tags": []
   },
   "outputs": [],
   "source": [
    "class_labels = gcp_data[\"class_labe\"].values.astype(int)"
   ]
  },
  {
   "cell_type": "markdown",
   "id": "2b48788c-4756-4d97-96cc-c7c6d9bcd641",
   "metadata": {
    "tags": []
   },
   "source": [
    "## Split data into training and testing sets"
   ]
  },
  {
   "cell_type": "code",
   "execution_count": 6,
   "id": "0d9f6fbe-bcbc-423f-910b-3bbbeaf61f01",
   "metadata": {
    "tags": []
   },
   "outputs": [],
   "source": [
    "X_train, X_test, y_train, y_test = train_test_split(gcp_values, class_labels, test_size=0.3, random_state=42)"
   ]
  },
  {
   "cell_type": "markdown",
   "id": "919ff353-e65a-4647-addd-b9c82a8a5656",
   "metadata": {
    "tags": []
   },
   "source": [
    "## Define parameter grid for grid search"
   ]
  },
  {
   "cell_type": "code",
   "execution_count": 7,
   "id": "5be5b908-75b9-40a7-991f-794ec1bb2ea2",
   "metadata": {
    "tags": []
   },
   "outputs": [],
   "source": [
    "param_grid = {\n",
    "    'n_estimators': [100, 200, 300],\n",
    "    'max_depth': [None, 10, 20],\n",
    "    'min_samples_split': [2, 5, 10],\n",
    "    'min_samples_leaf': [1, 2, 4]\n",
    "}"
   ]
  },
  {
   "cell_type": "markdown",
   "id": "4fd64f29-bd47-4ac6-aa61-89ad3bb1ba85",
   "metadata": {
    "tags": []
   },
   "source": [
    "## Initialize Random Forest classifier"
   ]
  },
  {
   "cell_type": "code",
   "execution_count": 8,
   "id": "3c7e4bc9-d68a-499e-8e67-cf684d82d8e2",
   "metadata": {
    "tags": []
   },
   "outputs": [],
   "source": [
    "rf_classifier = RandomForestClassifier()"
   ]
  },
  {
   "cell_type": "markdown",
   "id": "4357218c-b5ca-4219-8ccd-9eaa2cdb1c2e",
   "metadata": {
    "tags": []
   },
   "source": [
    "## Perform grid search"
   ]
  },
  {
   "cell_type": "code",
   "execution_count": 9,
   "id": "8c7d648b-5a55-4afa-8315-2b2781a6653f",
   "metadata": {
    "tags": []
   },
   "outputs": [
    {
     "data": {
      "text/html": [
       "<style>#sk-container-id-1 {color: black;}#sk-container-id-1 pre{padding: 0;}#sk-container-id-1 div.sk-toggleable {background-color: white;}#sk-container-id-1 label.sk-toggleable__label {cursor: pointer;display: block;width: 100%;margin-bottom: 0;padding: 0.3em;box-sizing: border-box;text-align: center;}#sk-container-id-1 label.sk-toggleable__label-arrow:before {content: \"▸\";float: left;margin-right: 0.25em;color: #696969;}#sk-container-id-1 label.sk-toggleable__label-arrow:hover:before {color: black;}#sk-container-id-1 div.sk-estimator:hover label.sk-toggleable__label-arrow:before {color: black;}#sk-container-id-1 div.sk-toggleable__content {max-height: 0;max-width: 0;overflow: hidden;text-align: left;background-color: #f0f8ff;}#sk-container-id-1 div.sk-toggleable__content pre {margin: 0.2em;color: black;border-radius: 0.25em;background-color: #f0f8ff;}#sk-container-id-1 input.sk-toggleable__control:checked~div.sk-toggleable__content {max-height: 200px;max-width: 100%;overflow: auto;}#sk-container-id-1 input.sk-toggleable__control:checked~label.sk-toggleable__label-arrow:before {content: \"▾\";}#sk-container-id-1 div.sk-estimator input.sk-toggleable__control:checked~label.sk-toggleable__label {background-color: #d4ebff;}#sk-container-id-1 div.sk-label input.sk-toggleable__control:checked~label.sk-toggleable__label {background-color: #d4ebff;}#sk-container-id-1 input.sk-hidden--visually {border: 0;clip: rect(1px 1px 1px 1px);clip: rect(1px, 1px, 1px, 1px);height: 1px;margin: -1px;overflow: hidden;padding: 0;position: absolute;width: 1px;}#sk-container-id-1 div.sk-estimator {font-family: monospace;background-color: #f0f8ff;border: 1px dotted black;border-radius: 0.25em;box-sizing: border-box;margin-bottom: 0.5em;}#sk-container-id-1 div.sk-estimator:hover {background-color: #d4ebff;}#sk-container-id-1 div.sk-parallel-item::after {content: \"\";width: 100%;border-bottom: 1px solid gray;flex-grow: 1;}#sk-container-id-1 div.sk-label:hover label.sk-toggleable__label {background-color: #d4ebff;}#sk-container-id-1 div.sk-serial::before {content: \"\";position: absolute;border-left: 1px solid gray;box-sizing: border-box;top: 0;bottom: 0;left: 50%;z-index: 0;}#sk-container-id-1 div.sk-serial {display: flex;flex-direction: column;align-items: center;background-color: white;padding-right: 0.2em;padding-left: 0.2em;position: relative;}#sk-container-id-1 div.sk-item {position: relative;z-index: 1;}#sk-container-id-1 div.sk-parallel {display: flex;align-items: stretch;justify-content: center;background-color: white;position: relative;}#sk-container-id-1 div.sk-item::before, #sk-container-id-1 div.sk-parallel-item::before {content: \"\";position: absolute;border-left: 1px solid gray;box-sizing: border-box;top: 0;bottom: 0;left: 50%;z-index: -1;}#sk-container-id-1 div.sk-parallel-item {display: flex;flex-direction: column;z-index: 1;position: relative;background-color: white;}#sk-container-id-1 div.sk-parallel-item:first-child::after {align-self: flex-end;width: 50%;}#sk-container-id-1 div.sk-parallel-item:last-child::after {align-self: flex-start;width: 50%;}#sk-container-id-1 div.sk-parallel-item:only-child::after {width: 0;}#sk-container-id-1 div.sk-dashed-wrapped {border: 1px dashed gray;margin: 0 0.4em 0.5em 0.4em;box-sizing: border-box;padding-bottom: 0.4em;background-color: white;}#sk-container-id-1 div.sk-label label {font-family: monospace;font-weight: bold;display: inline-block;line-height: 1.2em;}#sk-container-id-1 div.sk-label-container {text-align: center;}#sk-container-id-1 div.sk-container {/* jupyter's `normalize.less` sets `[hidden] { display: none; }` but bootstrap.min.css set `[hidden] { display: none !important; }` so we also need the `!important` here to be able to override the default hidden behavior on the sphinx rendered scikit-learn.org. See: https://github.com/scikit-learn/scikit-learn/issues/21755 */display: inline-block !important;position: relative;}#sk-container-id-1 div.sk-text-repr-fallback {display: none;}</style><div id=\"sk-container-id-1\" class=\"sk-top-container\"><div class=\"sk-text-repr-fallback\"><pre>GridSearchCV(cv=3, estimator=RandomForestClassifier(),\n",
       "             param_grid={&#x27;max_depth&#x27;: [None, 10, 20],\n",
       "                         &#x27;min_samples_leaf&#x27;: [1, 2, 4],\n",
       "                         &#x27;min_samples_split&#x27;: [2, 5, 10],\n",
       "                         &#x27;n_estimators&#x27;: [100, 200, 300]},\n",
       "             scoring=&#x27;accuracy&#x27;)</pre><b>In a Jupyter environment, please rerun this cell to show the HTML representation or trust the notebook. <br />On GitHub, the HTML representation is unable to render, please try loading this page with nbviewer.org.</b></div><div class=\"sk-container\" hidden><div class=\"sk-item sk-dashed-wrapped\"><div class=\"sk-label-container\"><div class=\"sk-label sk-toggleable\"><input class=\"sk-toggleable__control sk-hidden--visually\" id=\"sk-estimator-id-1\" type=\"checkbox\" ><label for=\"sk-estimator-id-1\" class=\"sk-toggleable__label sk-toggleable__label-arrow\">GridSearchCV</label><div class=\"sk-toggleable__content\"><pre>GridSearchCV(cv=3, estimator=RandomForestClassifier(),\n",
       "             param_grid={&#x27;max_depth&#x27;: [None, 10, 20],\n",
       "                         &#x27;min_samples_leaf&#x27;: [1, 2, 4],\n",
       "                         &#x27;min_samples_split&#x27;: [2, 5, 10],\n",
       "                         &#x27;n_estimators&#x27;: [100, 200, 300]},\n",
       "             scoring=&#x27;accuracy&#x27;)</pre></div></div></div><div class=\"sk-parallel\"><div class=\"sk-parallel-item\"><div class=\"sk-item\"><div class=\"sk-label-container\"><div class=\"sk-label sk-toggleable\"><input class=\"sk-toggleable__control sk-hidden--visually\" id=\"sk-estimator-id-2\" type=\"checkbox\" ><label for=\"sk-estimator-id-2\" class=\"sk-toggleable__label sk-toggleable__label-arrow\">estimator: RandomForestClassifier</label><div class=\"sk-toggleable__content\"><pre>RandomForestClassifier()</pre></div></div></div><div class=\"sk-serial\"><div class=\"sk-item\"><div class=\"sk-estimator sk-toggleable\"><input class=\"sk-toggleable__control sk-hidden--visually\" id=\"sk-estimator-id-3\" type=\"checkbox\" ><label for=\"sk-estimator-id-3\" class=\"sk-toggleable__label sk-toggleable__label-arrow\">RandomForestClassifier</label><div class=\"sk-toggleable__content\"><pre>RandomForestClassifier()</pre></div></div></div></div></div></div></div></div></div></div>"
      ],
      "text/plain": [
       "GridSearchCV(cv=3, estimator=RandomForestClassifier(),\n",
       "             param_grid={'max_depth': [None, 10, 20],\n",
       "                         'min_samples_leaf': [1, 2, 4],\n",
       "                         'min_samples_split': [2, 5, 10],\n",
       "                         'n_estimators': [100, 200, 300]},\n",
       "             scoring='accuracy')"
      ]
     },
     "execution_count": 9,
     "metadata": {},
     "output_type": "execute_result"
    }
   ],
   "source": [
    "grid_search = GridSearchCV(estimator=rf_classifier, param_grid=param_grid, cv=3, scoring='accuracy')\n",
    "grid_search.fit(X_train, y_train)"
   ]
  },
  {
   "cell_type": "markdown",
   "id": "6eead645-9f1f-4623-ad3a-03b969014d1d",
   "metadata": {
    "tags": []
   },
   "source": [
    "## Get the best parameters and model"
   ]
  },
  {
   "cell_type": "code",
   "execution_count": 12,
   "id": "ee1a0358-223e-4067-826d-b2b2c8e6d041",
   "metadata": {
    "tags": []
   },
   "outputs": [],
   "source": [
    "best_params = grid_search.best_params_\n",
    "best_model = grid_search.best_estimator_"
   ]
  },
  {
   "cell_type": "markdown",
   "id": "1351b480-d618-41aa-9e8c-acb416e70d0e",
   "metadata": {
    "tags": []
   },
   "source": [
    "## Evaluate the model"
   ]
  },
  {
   "cell_type": "code",
   "execution_count": 13,
   "id": "3bee4b41-952c-4159-87a2-170d04ef2c7e",
   "metadata": {
    "tags": []
   },
   "outputs": [
    {
     "name": "stdout",
     "output_type": "stream",
     "text": [
      "Best Parameters: {'max_depth': None, 'min_samples_leaf': 2, 'min_samples_split': 2, 'n_estimators': 200}\n",
      "Accuracy: 0.5925925925925926\n"
     ]
    }
   ],
   "source": [
    "y_pred = best_model.predict(X_test)\n",
    "accuracy = accuracy_score(y_test, y_pred)\n",
    "print(\"Best Parameters:\", best_params)\n",
    "print(\"Accuracy:\", accuracy)"
   ]
  },
  {
   "cell_type": "code",
   "execution_count": null,
   "id": "6580fbe4-ce07-4575-861c-808e09d22cc9",
   "metadata": {},
   "outputs": [],
   "source": []
  }
 ],
 "metadata": {
  "kernelspec": {
   "display_name": "Python 3 (ipykernel)",
   "language": "python",
   "name": "python3"
  },
  "language_info": {
   "codemirror_mode": {
    "name": "ipython",
    "version": 3
   },
   "file_extension": ".py",
   "mimetype": "text/x-python",
   "name": "python",
   "nbconvert_exporter": "python",
   "pygments_lexer": "ipython3",
   "version": "3.8.10"
  }
 },
 "nbformat": 4,
 "nbformat_minor": 5
}
