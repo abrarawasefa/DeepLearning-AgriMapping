{
 "cells": [
  {
   "cell_type": "code",
   "execution_count": 1,
   "id": "2cbbc2f5-4b2f-4142-8f7e-62a872ef6201",
   "metadata": {
    "tags": []
   },
   "outputs": [],
   "source": [
    "import rasterio\n",
    "import numpy as np\n",
    "from sklearn.ensemble import RandomForestClassifier\n",
    "from sklearn.model_selection import train_test_split, GridSearchCV\n",
    "from sklearn.metrics import accuracy_score\n",
    "import geopandas as gpd"
   ]
  },
  {
   "cell_type": "code",
   "execution_count": 2,
   "id": "f0cfcf35-ea45-41bf-84ca-c6088518369c",
   "metadata": {
    "tags": []
   },
   "outputs": [],
   "source": [
    "# Load Sentinel-2 image\n",
    "sentinel_image_path = \"/home/eoafrica/Sentinel2_AWbasin/outputs_rgb/stacked_rgb.tif\"\n",
    "with rasterio.open(sentinel_image_path) as src:\n",
    "    sentinel_image = src.read()"
   ]
  },
  {
   "cell_type": "code",
   "execution_count": 3,
   "id": "e05de5a5-1a4d-4737-84c1-914632264197",
   "metadata": {
    "tags": []
   },
   "outputs": [],
   "source": [
    "# Load ground truth GCP shapefile data\n",
    "gcp_shapefile_path = \"/home/eoafrica/Sentinel2_AWbasin/GCP_LULCawash/lulcgcp.shp\"\n",
    "gcp_data = gpd.read_file(gcp_shapefile_path)"
   ]
  },
  {
   "cell_type": "code",
   "execution_count": 4,
   "id": "3151e8eb-9ac8-489a-9c65-05b1bb30bce3",
   "metadata": {
    "tags": []
   },
   "outputs": [],
   "source": [
    "# Extract the values of the image pixels at the locations of the GCPs\n",
    "gcp_points = gcp_data.geometry.apply(lambda geom: (geom.x, geom.y)).tolist()\n",
    "gcp_values = []\n",
    "for point in gcp_points:\n",
    "    row, col = src.index(point[0], point[1])\n",
    "    gcp_values.append(sentinel_image[:, row, col])\n",
    "\n",
    "gcp_values = np.array(gcp_values)"
   ]
  },
  {
   "cell_type": "code",
   "execution_count": 5,
   "id": "d0bb1c9f-2046-4bdc-b207-612430ca2407",
   "metadata": {
    "tags": []
   },
   "outputs": [],
   "source": [
    "# Extract corresponding class labels from the GCP data\n",
    "class_labels = gcp_data[\"class_labe\"].values.astype(int)\n",
    "\n",
    "# Split data into training and testing sets\n",
    "X_train, X_test, y_train, y_test = train_test_split(gcp_values, class_labels, test_size=0.3, random_state=42)"
   ]
  },
  {
   "cell_type": "code",
   "execution_count": 6,
   "id": "faf292ff-a44c-49eb-96a1-c66881d563c2",
   "metadata": {
    "tags": []
   },
   "outputs": [],
   "source": [
    "# Define parameter grid for grid search\n",
    "param_grid = {\n",
    "    'n_estimators': [100, 200, 300],\n",
    "    'max_depth': [None, 10, 20],\n",
    "    'min_samples_split': [2, 5, 10],\n",
    "    'min_samples_leaf': [1, 2, 4]\n",
    "}\n",
    "\n",
    "# Initialize Random Forest classifier\n",
    "rf_classifier = RandomForestClassifier()"
   ]
  },
  {
   "cell_type": "code",
   "execution_count": 7,
   "id": "94e25227-6b00-4d77-a480-844c7eb35eda",
   "metadata": {
    "tags": []
   },
   "outputs": [],
   "source": [
    "# Perform grid search\n",
    "grid_search = GridSearchCV(estimator=rf_classifier, param_grid=param_grid, cv=3, scoring='accuracy')\n",
    "grid_search.fit(X_train, y_train)\n",
    "\n",
    "# Get the best parameters and model\n",
    "best_params = grid_search.best_params_\n",
    "best_model = grid_search.best_estimator_"
   ]
  },
  {
   "cell_type": "code",
   "execution_count": null,
   "id": "f49b0ec9-2b92-4f14-9e4b-2c9f5d5d0675",
   "metadata": {
    "tags": []
   },
   "outputs": [],
   "source": [
    "# Evaluate the model\n",
    "y_pred = best_model.predict(X_test)\n",
    "accuracy = accuracy_score(y_test, y_pred)\n",
    "print(\"Best Parameters:\", best_params)\n",
    "print(\"Accuracy:\", accuracy)"
   ]
  }
 ],
 "metadata": {
  "kernelspec": {
   "display_name": "Python 3 (ipykernel)",
   "language": "python",
   "name": "python3"
  },
  "language_info": {
   "codemirror_mode": {
    "name": "ipython",
    "version": 3
   },
   "file_extension": ".py",
   "mimetype": "text/x-python",
   "name": "python",
   "nbconvert_exporter": "python",
   "pygments_lexer": "ipython3",
   "version": "3.8.10"
  }
 },
 "nbformat": 4,
 "nbformat_minor": 5
}
